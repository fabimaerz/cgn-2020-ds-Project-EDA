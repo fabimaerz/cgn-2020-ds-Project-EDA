{
 "cells": [
  {
   "cell_type": "markdown",
   "metadata": {},
   "source": [
    "# Model Fitting"
   ]
  },
  {
   "cell_type": "markdown",
   "metadata": {},
   "source": [
    "## Load Dataset"
   ]
  },
  {
   "cell_type": "code",
   "execution_count": 1,
   "metadata": {},
   "outputs": [],
   "source": [
    "# Import libraries\n",
    "import pandas as pd\n",
    "import numpy as np\n",
    "import matplotlib.pyplot as plt\n",
    "%matplotlib inline\n",
    "import seaborn as sns\n",
    "# To save dict\n",
    "import pickle"
   ]
  },
  {
   "cell_type": "code",
   "execution_count": 2,
   "metadata": {},
   "outputs": [],
   "source": [
    "# load dataset\n",
    "h_price = pd.read_csv(\"King_County_House_prices_dataset.csv\")#, na_values=['?'])"
   ]
  },
  {
   "cell_type": "markdown",
   "metadata": {},
   "source": [
    "# Edit Dataset"
   ]
  },
  {
   "cell_type": "code",
   "execution_count": 3,
   "metadata": {},
   "outputs": [],
   "source": [
    "### Change date to useful data eg date, month, year\n",
    "h_price['date_m'] = np.array([i.split('/')[0] for i in h_price.date.values]).astype(int)\n",
    "h_price['date_d'] = np.array([i.split('/')[1] for i in h_price.date.values]).astype(int)\n",
    "h_price['date_y'] = np.array([i.split('/')[2] for i in h_price.date.values]).astype(int)"
   ]
  },
  {
   "cell_type": "code",
   "execution_count": 4,
   "metadata": {},
   "outputs": [],
   "source": [
    "# 33 bedrooms, coordinates show small house, outlier, not useful for analysis\n",
    "h_price.bedrooms.argmax()\n",
    "h_price[15856:15857]\n",
    "##### remove false bedrooms\n",
    "h_price = h_price.drop(h_price.index[h_price.bedrooms.argmax()])\n",
    "#h_price.sort_values('bedrooms', ascending=False).head(3)"
   ]
  },
  {
   "cell_type": "code",
   "execution_count": 5,
   "metadata": {},
   "outputs": [],
   "source": [
    "#h_price.plot.scatter(x='sqft_living', y='price');\n",
    "# linear dependence, one obvious outlier\n",
    "h_price = h_price.drop(h_price.index[h_price.sqft_living.argmax()])"
   ]
  },
  {
   "cell_type": "code",
   "execution_count": 160,
   "metadata": {},
   "outputs": [],
   "source": [
    "# Turn Nans in waterfront to 0\n",
    "h_price.waterfront = h_price.waterfront.fillna(0)"
   ]
  },
  {
   "cell_type": "markdown",
   "metadata": {},
   "source": [
    "## Functions / Imports"
   ]
  },
  {
   "cell_type": "code",
   "execution_count": 161,
   "metadata": {},
   "outputs": [],
   "source": [
    "### All dummies\n",
    "all_dummies = {}\n",
    "for i in ['zipcode', 'condition', 'date_m', 'grade', 'waterfront', 'view', 'yr_renovated']:\n",
    "    tmp = pd.get_dummies(h_price[i], prefix=i)\n",
    "    all_dummies[i] = tmp.columns.values\n",
    "# save dict\n",
    "with open('dummies.pkl', 'wb') as f:\n",
    "    pickle.dump(all_dummies, f, pickle.HIGHEST_PROTOCOL)"
   ]
  },
  {
   "cell_type": "code",
   "execution_count": 162,
   "metadata": {},
   "outputs": [
    {
     "name": "stdout",
     "output_type": "stream",
     "text": [
      "SkLearn version is 0.23.2\n"
     ]
    }
   ],
   "source": [
    "# Dataset\n",
    "import sklearn\n",
    "# function to shuffle dataset and divide into test and train set\n",
    "from sklearn.model_selection import train_test_split\n",
    "# Model\n",
    "from sklearn.linear_model import LinearRegression\n",
    "# Model with regularization\n",
    "from sklearn.linear_model import Ridge\n",
    "print('SkLearn version is {}'.format(sklearn.__version__))"
   ]
  },
  {
   "cell_type": "code",
   "execution_count": 163,
   "metadata": {},
   "outputs": [
    {
     "name": "stdout",
     "output_type": "stream",
     "text": [
      "0.5370480325728262 0.52769201345116\n"
     ]
    }
   ],
   "source": [
    "def get_train_test_sets(features, dataFrame, res):\n",
    "    ''' input list of features: list of strings\n",
    "        input dataframe\n",
    "        res: feature of interest'''\n",
    "    X = dataFrame[features].values\n",
    "    \n",
    "    # reshape array to nFeatures, m\n",
    "    if len(X.shape) == 1:\n",
    "        X = X.reshape(X.shape[0], 1)\n",
    "    #print(X.shape)\n",
    "\n",
    "    y = dataFrame[res].values\n",
    "    y = y.reshape(y.shape[0], 1)\n",
    "    \n",
    "    x_train, x_test, y_train, y_test = train_test_split(X, y, test_size=0.3, random_state=42, shuffle=True)\n",
    "    \n",
    "    dataset = {'x_train': x_train,\n",
    "               'x_test': x_test,\n",
    "               'y_train': y_train,\n",
    "               'y_test': y_test}\n",
    "    \n",
    "    return dataset\n",
    "\n",
    "def get_train_test_sets_wdummies(features, features_dummies, dataFrame, res):\n",
    "    ''' input list of features: list of strings\n",
    "        input list of dummy features: list of strings\n",
    "        input dataframe\n",
    "        res: feature of interest'''\n",
    "    # load dict\n",
    "    with open('dummies.pkl', 'rb') as f:\n",
    "        all_dummies = pickle.load(f)\n",
    "    ## Add dummies to features / data frame\n",
    "    copy = dataFrame.copy()\n",
    "    # Reset index to concat\n",
    "    copy = copy.reset_index(drop=True)\n",
    "    for feat_dum in features_dummies:\n",
    "        df = pd.get_dummies(copy[feat_dum], prefix=feat_dum)\n",
    "        # Add all missing dummy values\n",
    "        dummies = all_dummies[feat_dum]\n",
    "        # initializing dummies with zeros\n",
    "        df_all = pd.DataFrame(0, index=np.arange(df.shape[0]), columns = dummies)\n",
    "        # Add all existing ones in correct order -> loop over full one\n",
    "        for feat in df.columns.values:\n",
    "            df_all[feat] = df[feat]\n",
    "        #df.drop(df.columns[len(df.columns)-1], axis=1, inplace=True)\n",
    "        features = features + list(df_all.columns.values)\n",
    "        copy = pd.concat([copy, df_all], axis=1, sort=False)\n",
    "\n",
    "    X = copy[features].values\n",
    "    \n",
    "    # reshape array to nFeatures, m\n",
    "    if len(X.shape) == 1:\n",
    "        X = X.reshape(X.shape[0], 1)\n",
    "    #print(X.shape)\n",
    "\n",
    "    y = dataFrame[res].values\n",
    "    y = y.reshape(y.shape[0], 1)\n",
    "    \n",
    "    x_train, x_test, y_train, y_test = train_test_split(X, y, test_size=0.3, random_state=42, shuffle=True)\n",
    "    \n",
    "    dataset = {'x_train': x_train,\n",
    "               'x_test' : x_test,\n",
    "               'y_train': y_train,\n",
    "               'y_test' : y_test}\n",
    "    \n",
    "    return dataset\n",
    "\n",
    "# MAPE mean absolute percentage error\n",
    "def mape(a,b):\n",
    "    \"\"\" calculate MAPE, input (y_true, y_pred)\"\"\"\n",
    "    mask = a != 0\n",
    "    return (np.fabs(a-b)/a)[mask].mean()\n",
    "\n",
    "def get_mape_from_dataset(dataset):\n",
    "    ''' input dataset, fit model to train_set, get mape of model for train, test_set'''\n",
    "    x_train, y_train, x_test, y_test = dataset['x_train'], dataset['y_train'], dataset['x_test'], dataset['y_test']\n",
    "    reg = LinearRegression().fit(x_train, y_train)\n",
    "    \n",
    "    return mape(y_train, reg.predict(x_train)), mape(y_test, reg.predict(x_test))\n",
    "\n",
    "def get_combinations(full_list):\n",
    "    \"\"\" return possible combinations of features in list\"\"\"\n",
    "    import itertools\n",
    "    combinations = []\n",
    "    # append all values\n",
    "    full_list = list(full_list)\n",
    "    if 'price' in full_list:\n",
    "        full_list.remove('price')\n",
    "    combinations.append(full_list)\n",
    "    for i in range(1, len(full_list)):\n",
    "        possib = list(itertools.combinations(full_list, r=i))\n",
    "        for x in possib:\n",
    "            combinations.append(list(x))\n",
    "    print('There are {} combinations'.format(len(combinations)))\n",
    "    \n",
    "    return combinations\n",
    "\n",
    "# Model functions:\n",
    "#    reg = LinearRegression().fit(x_train, y_train)                Fits the model to (x_train, y_train)\n",
    "#    reg.score(x_train, y_train), reg.score(x_test, y_test)        Get R^2 of the model\n",
    "#    reg.coef_, reg.intercept_                                     Get coefficients\n",
    "#    reg.predict(x_test)                                           Predict results from model\n",
    "\n",
    "\n",
    "# Test:\n",
    "dataset = get_train_test_sets(['sqft_living', 'grade'], h_price, 'price')\n",
    "x_train, y_train, x_test, y_test = dataset['x_train'], dataset['y_train'], dataset['x_test'], dataset['y_test']\n",
    "reg = LinearRegression().fit(x_train, y_train)\n",
    "print(reg.score(x_train, y_train), reg.score(x_test, y_test))"
   ]
  },
  {
   "cell_type": "markdown",
   "metadata": {},
   "source": [
    "## Calculate all R^2"
   ]
  },
  {
   "cell_type": "code",
   "execution_count": 166,
   "metadata": {},
   "outputs": [
    {
     "name": "stdout",
     "output_type": "stream",
     "text": [
      "R^2 for feature price is 1.00\n",
      "R^2 for feature sqft_living is 0.50\n",
      "R^2 for feature grade is 0.45\n",
      "R^2 for feature sqft_above is 0.36\n",
      "R^2 for feature sqft_living15 is 0.35\n",
      "R^2 for feature bathrooms is 0.28\n",
      "R^2 for feature bedrooms is 0.10\n",
      "R^2 for feature lat is 0.09\n",
      "R^2 for feature waterfront is 0.07\n",
      "R^2 for feature floors is 0.06\n",
      "R^2 for feature sqft_lot is 0.01\n",
      "R^2 for feature sqft_lot15 is 0.01\n",
      "R^2 for feature zipcode is 0.00\n",
      "R^2 for feature yr_built is 0.00\n",
      "R^2 for feature condition is 0.00\n",
      "R^2 for feature long is 0.00\n",
      "R^2 for feature date_m is 0.00\n",
      "R^2 for feature date_y is 0.00\n",
      "R^2 for feature date_d is 0.00\n"
     ]
    }
   ],
   "source": [
    "l = []\n",
    "# for given features\n",
    "for feature in ['bedrooms', 'price', 'bathrooms', 'sqft_living',\n",
    "                'sqft_lot', 'floors', 'condition', 'grade',\n",
    "                'sqft_above', 'yr_built',\n",
    "                'zipcode', 'lat', 'long', 'sqft_living15', 'sqft_lot15', 'date_m',\n",
    "                'date_d', 'date_y', 'waterfront']:\n",
    "    dataset = get_train_test_sets([feature], h_price, 'price')\n",
    "    #print(feature)\n",
    "    x_train, y_train, x_test, y_test = dataset['x_train'], dataset['y_train'], dataset['x_test'], dataset['y_test']\n",
    "    reg = LinearRegression().fit(x_train, y_train)\n",
    "    l.append([feature, reg.score(x_train, y_train)])\n",
    "# sort and print all R2\n",
    "l = sorted(l,key=lambda x: x[1], reverse=True)\n",
    "for i in l:\n",
    "    print('R^2 for feature {} is {:.2f}'.format(i[0], i[1]))"
   ]
  },
  {
   "cell_type": "markdown",
   "metadata": {},
   "source": [
    "* sqft_living, grade, sqft_above, sqft_living15, bathrooms = big corr\n",
    "* bedrooms, floors = low corr\n",
    "* zipcode, condition, date_m test with dummies (also grade because it's exponential)"
   ]
  },
  {
   "cell_type": "markdown",
   "metadata": {},
   "source": [
    "## Dummy test"
   ]
  },
  {
   "cell_type": "code",
   "execution_count": 167,
   "metadata": {},
   "outputs": [
    {
     "name": "stdout",
     "output_type": "stream",
     "text": [
      "R^2 for feature grade is 0.52\n",
      "R^2 for feature zipcode is 0.41\n",
      "R^2 for feature view is 0.17\n",
      "R^2 for feature yr_renovated is 0.03\n",
      "R^2 for feature condition is 0.01\n",
      "R^2 for feature date_m is 0.00\n"
     ]
    }
   ],
   "source": [
    "l = []\n",
    "# for given features\n",
    "for feature in ['zipcode', 'condition', 'date_m', 'grade', 'view', 'yr_renovated']:\n",
    "    tmp = h_price.copy()\n",
    "    df = pd.get_dummies(tmp[feature])\n",
    "    features = df.columns.values\n",
    "    tmp = tmp.join(df)\n",
    "    dataset = get_train_test_sets(features, tmp, 'price')\n",
    "    #print(feature)\n",
    "    x_train, y_train, x_test, y_test = dataset['x_train'], dataset['y_train'], dataset['x_test'], dataset['y_test']\n",
    "    reg = LinearRegression().fit(x_train, y_train)\n",
    "    l.append([feature, reg.score(x_train, y_train)])\n",
    "# sort and print results\n",
    "l = sorted(l,key=lambda x: x[1], reverse=True)\n",
    "for i in l:\n",
    "    print('R^2 for feature {} is {:.2f}'.format(i[0], i[1]))"
   ]
  },
  {
   "cell_type": "markdown",
   "metadata": {},
   "source": [
    "* grade correlates better as dummy, because it's not linear\n",
    "* zipcode also very good correlation\n",
    "* view correlation not bad\n",
    "* condition, date_m no single correlation, check in combination"
   ]
  },
  {
   "cell_type": "markdown",
   "metadata": {},
   "source": [
    "## Intuitive Model\n",
    "* use all values from above with good R^2"
   ]
  },
  {
   "cell_type": "code",
   "execution_count": 243,
   "metadata": {},
   "outputs": [
    {
     "name": "stdout",
     "output_type": "stream",
     "text": [
      "Mape for training set 0.177 and test set 0.178\n"
     ]
    }
   ],
   "source": [
    "features = ['sqft_living', 'sqft_above', 'bathrooms', 'waterfront']\n",
    "dummies = ['grade', 'zipcode', 'view']\n",
    "\n",
    "dataset = get_train_test_sets_wdummies(features, dummies, h_price, 'price')\n",
    "result = get_mape_from_dataset(dataset)\n",
    "print('Mape for training set {:.3f} and test set {:.3f}'.format(result[0], result[1]))"
   ]
  },
  {
   "cell_type": "markdown",
   "metadata": {},
   "source": [
    "* values for train / test set almost the same -> no overfit, no regularization needed\n",
    "* test with less values"
   ]
  },
  {
   "cell_type": "code",
   "execution_count": 244,
   "metadata": {},
   "outputs": [
    {
     "name": "stdout",
     "output_type": "stream",
     "text": [
      "Mape for training set 0.177 and test set 0.178\n"
     ]
    }
   ],
   "source": [
    "features = ['sqft_living']\n",
    "dummies = ['grade', 'zipcode', 'view']\n",
    "\n",
    "dataset = get_train_test_sets_wdummies(features, dummies, h_price, 'price')\n",
    "result = get_mape_from_dataset(dataset)\n",
    "print('Mape for training set {:.3f} and test set {:.3f}'.format(result[0], result[1]))"
   ]
  },
  {
   "cell_type": "markdown",
   "metadata": {},
   "source": [
    "* good first result, but most features do nothing relevant"
   ]
  },
  {
   "cell_type": "markdown",
   "metadata": {},
   "source": [
    "### Create Model to use"
   ]
  },
  {
   "cell_type": "code",
   "execution_count": 185,
   "metadata": {},
   "outputs": [],
   "source": [
    "class house_price:\n",
    "    def __init__(self):\n",
    "        # standard settings\n",
    "        self.features = ['sqft_living']\n",
    "        self.dummies = ['grade', 'zipcode', 'view']\n",
    "    def fit(self, dataFrame):\n",
    "        \"\"\" fit model, input dataFrame \"\"\"\n",
    "        dataset = get_train_test_sets_wdummies(self.features, self.dummies, dataFrame, 'price')\n",
    "        x_train, y_train, x_test, y_test = dataset['x_train'], dataset['y_train'], dataset['x_test'], dataset['y_test']\n",
    "\n",
    "        model = LinearRegression().fit(x_train, y_train)\n",
    "        self.model = model\n",
    "        \n",
    "    def predict_list(self, x):\n",
    "\n",
    "        # Predict if rich or poor\n",
    "        y_pred = self.model.predict(x)\n",
    "        \n",
    "        return y_pred\n",
    "    \n",
    "    def predict(self, inp):\n",
    "        \"\"\" input pandas file with columns features and dummies\"\"\"\n",
    "        \n",
    "        features = self.features\n",
    "        # load dict\n",
    "        with open('dummies.pkl', 'rb') as f:\n",
    "            all_dummies = pickle.load(f)\n",
    "        ## Add dummies to features / data frame\n",
    "        copy = inp.copy()\n",
    "        # Reset index to concat\n",
    "        copy = copy.reset_index(drop=True)\n",
    "        for feat_dum in self.dummies:\n",
    "            df = pd.get_dummies(copy[feat_dum], prefix=feat_dum)\n",
    "            # Add all missing dummy values\n",
    "            dummies = all_dummies[feat_dum]\n",
    "            # initializing dummies with zeros\n",
    "            df_all = pd.DataFrame(0, index=np.arange(df.shape[0]), columns = dummies)\n",
    "            # Add all existing ones in correct order -> loop over full one\n",
    "            for feat in df.columns.values:\n",
    "                df_all[feat] = df[feat]\n",
    "            #df.drop(df.columns[len(df.columns)-1], axis=1, inplace=True)\n",
    "            features = features + list(df_all.columns.values)\n",
    "            copy = pd.concat([copy, df_all], axis=1, sort=False)\n",
    "\n",
    "        X = copy[features].values\n",
    "\n",
    "        # reshape array to nFeatures, m\n",
    "        if len(X.shape) == 1:\n",
    "            X = X.reshape(X.shape[0], 1)\n",
    "        \n",
    "        return self.model.predict(X)"
   ]
  },
  {
   "cell_type": "markdown",
   "metadata": {},
   "source": [
    "## Remove Outliers by STD for fit"
   ]
  },
  {
   "cell_type": "code",
   "execution_count": 180,
   "metadata": {},
   "outputs": [
    {
     "name": "stdout",
     "output_type": "stream",
     "text": [
      "from price 565 observations are removed\n",
      "from sqft_living 405 observations are removed\n",
      "(20625, 24) observations are left\n"
     ]
    }
   ],
   "source": [
    "# Loop over all features\n",
    "price_std = h_price.copy()\n",
    "# remove everything that lies x times out of std\n",
    "x = 2.5\n",
    "# remove from following features\n",
    "for i in ['price', 'sqft_living']:\n",
    "    std = price_std[i].std()\n",
    "    mean = price_std[i].mean()\n",
    "    print('from {} {} observations are removed'.format(i, price_std[abs(price_std[i] - mean) > std*x][i].count()))\n",
    "    price_std = price_std[abs(price_std[i] - mean) < std*x]\n",
    "print('{} observations are left'.format(price_std.shape))"
   ]
  },
  {
   "cell_type": "code",
   "execution_count": 245,
   "metadata": {},
   "outputs": [
    {
     "name": "stdout",
     "output_type": "stream",
     "text": [
      "Mape for test set 0.161\n"
     ]
    }
   ],
   "source": [
    "model = house_price()\n",
    "\n",
    "# fit model with price_std\n",
    "model.fit(price_std)\n",
    "\n",
    "dataset = get_train_test_sets_wdummies(features, dummies, price_std, 'price')\n",
    "\n",
    "# test model with full dataset\n",
    "dataset = get_train_test_sets_wdummies(features, dummies, h_price, 'price')\n",
    "x_train, y_train, x_test, y_test = dataset['x_train'], dataset['y_train'], dataset['x_test'], dataset['y_test']\n",
    "result = mape(y_test, model.predict_list(x_test))\n",
    "print('Mape for test set {:.3f}'.format(result))\n",
    "#reg.score(x_test, y_test)\n",
    "\n",
    "# Save model\n",
    "with open('model.pkl', 'wb') as f:\n",
    "    pickle.dump(model, f, pickle.HIGHEST_PROTOCOL)"
   ]
  },
  {
   "cell_type": "markdown",
   "metadata": {},
   "source": [
    "* better fit, better result"
   ]
  },
  {
   "cell_type": "code",
   "execution_count": 250,
   "metadata": {},
   "outputs": [
    {
     "data": {
      "text/html": [
       "<div>\n",
       "<style scoped>\n",
       "    .dataframe tbody tr th:only-of-type {\n",
       "        vertical-align: middle;\n",
       "    }\n",
       "\n",
       "    .dataframe tbody tr th {\n",
       "        vertical-align: top;\n",
       "    }\n",
       "\n",
       "    .dataframe thead th {\n",
       "        text-align: right;\n",
       "    }\n",
       "</style>\n",
       "<table border=\"1\" class=\"dataframe\">\n",
       "  <thead>\n",
       "    <tr style=\"text-align: right;\">\n",
       "      <th></th>\n",
       "      <th>sqft_living</th>\n",
       "      <th>grade</th>\n",
       "      <th>zipcode</th>\n",
       "      <th>view</th>\n",
       "      <th>price</th>\n",
       "      <th>price_pred</th>\n",
       "      <th>APE</th>\n",
       "    </tr>\n",
       "  </thead>\n",
       "  <tbody>\n",
       "    <tr>\n",
       "      <th>0</th>\n",
       "      <td>3830</td>\n",
       "      <td>9</td>\n",
       "      <td>98122</td>\n",
       "      <td>1.0</td>\n",
       "      <td>2050000.0</td>\n",
       "      <td>1012225.0</td>\n",
       "      <td>51.0</td>\n",
       "    </tr>\n",
       "    <tr>\n",
       "      <th>1</th>\n",
       "      <td>3390</td>\n",
       "      <td>8</td>\n",
       "      <td>98116</td>\n",
       "      <td>3.0</td>\n",
       "      <td>915000.0</td>\n",
       "      <td>902764.0</td>\n",
       "      <td>1.0</td>\n",
       "    </tr>\n",
       "    <tr>\n",
       "      <th>2</th>\n",
       "      <td>3030</td>\n",
       "      <td>9</td>\n",
       "      <td>98119</td>\n",
       "      <td>0.0</td>\n",
       "      <td>879000.0</td>\n",
       "      <td>968408.0</td>\n",
       "      <td>10.0</td>\n",
       "    </tr>\n",
       "    <tr>\n",
       "      <th>3</th>\n",
       "      <td>1570</td>\n",
       "      <td>8</td>\n",
       "      <td>98199</td>\n",
       "      <td>0.0</td>\n",
       "      <td>494000.0</td>\n",
       "      <td>633144.0</td>\n",
       "      <td>28.0</td>\n",
       "    </tr>\n",
       "    <tr>\n",
       "      <th>4</th>\n",
       "      <td>1690</td>\n",
       "      <td>8</td>\n",
       "      <td>98024</td>\n",
       "      <td>0.0</td>\n",
       "      <td>457000.0</td>\n",
       "      <td>435502.0</td>\n",
       "      <td>5.0</td>\n",
       "    </tr>\n",
       "    <tr>\n",
       "      <th>5</th>\n",
       "      <td>1980</td>\n",
       "      <td>8</td>\n",
       "      <td>98199</td>\n",
       "      <td>0.0</td>\n",
       "      <td>759000.0</td>\n",
       "      <td>684105.0</td>\n",
       "      <td>10.0</td>\n",
       "    </tr>\n",
       "    <tr>\n",
       "      <th>6</th>\n",
       "      <td>1810</td>\n",
       "      <td>8</td>\n",
       "      <td>98022</td>\n",
       "      <td>0.0</td>\n",
       "      <td>279000.0</td>\n",
       "      <td>301160.0</td>\n",
       "      <td>8.0</td>\n",
       "    </tr>\n",
       "    <tr>\n",
       "      <th>7</th>\n",
       "      <td>2420</td>\n",
       "      <td>8</td>\n",
       "      <td>98059</td>\n",
       "      <td>0.0</td>\n",
       "      <td>505000.0</td>\n",
       "      <td>467454.0</td>\n",
       "      <td>7.0</td>\n",
       "    </tr>\n",
       "    <tr>\n",
       "      <th>8</th>\n",
       "      <td>1920</td>\n",
       "      <td>7</td>\n",
       "      <td>98023</td>\n",
       "      <td>0.0</td>\n",
       "      <td>210000.0</td>\n",
       "      <td>242101.0</td>\n",
       "      <td>15.0</td>\n",
       "    </tr>\n",
       "    <tr>\n",
       "      <th>9</th>\n",
       "      <td>2800</td>\n",
       "      <td>8</td>\n",
       "      <td>98028</td>\n",
       "      <td>0.0</td>\n",
       "      <td>515000.0</td>\n",
       "      <td>541388.0</td>\n",
       "      <td>5.0</td>\n",
       "    </tr>\n",
       "  </tbody>\n",
       "</table>\n",
       "</div>"
      ],
      "text/plain": [
       "   sqft_living  grade  zipcode  view      price  price_pred   APE\n",
       "0         3830      9    98122   1.0  2050000.0   1012225.0  51.0\n",
       "1         3390      8    98116   3.0   915000.0    902764.0   1.0\n",
       "2         3030      9    98119   0.0   879000.0    968408.0  10.0\n",
       "3         1570      8    98199   0.0   494000.0    633144.0  28.0\n",
       "4         1690      8    98024   0.0   457000.0    435502.0   5.0\n",
       "5         1980      8    98199   0.0   759000.0    684105.0  10.0\n",
       "6         1810      8    98022   0.0   279000.0    301160.0   8.0\n",
       "7         2420      8    98059   0.0   505000.0    467454.0   7.0\n",
       "8         1920      7    98023   0.0   210000.0    242101.0  15.0\n",
       "9         2800      8    98028   0.0   515000.0    541388.0   5.0"
      ]
     },
     "execution_count": 250,
     "metadata": {},
     "output_type": "execute_result"
    }
   ],
   "source": [
    "# Test\n",
    "with open('model.pkl', 'rb') as f:\n",
    "    model = pickle.load(f)\n",
    "    \n",
    "test = h_price.copy()\n",
    "test = test[['sqft_living', 'grade', 'zipcode', 'view', 'price']]\n",
    "test = test.sample(n=10).reset_index(drop=True)\n",
    "test['price_pred'] = model.predict(test)\n",
    "test['APE'] = abs(test.price - test.price_pred)/test.price*100\n",
    "test = test.round(0)\n",
    "test\n",
    "\n",
    "#from pandas.plotting import table\n",
    "#ax = plt.subplot(111, frame_on=False) # no visible frame\n",
    "#ax.xaxis.set_visible(False) # hide xaxis\n",
    "#ax.yaxis.set_visible(False)\n",
    "#plt.figure(figsize=(10,10))\n",
    "#table(ax, test)\n",
    "#plt.tight_layout()\n",
    "#plt.savefig('plots/table3.png')"
   ]
  },
  {
   "cell_type": "code",
   "execution_count": null,
   "metadata": {},
   "outputs": [],
   "source": [
    "with open('model.pkl', 'rb') as f:\n",
    "    model = pickle.load(f)\n",
    "model.predict(dataFrame)"
   ]
  },
  {
   "cell_type": "markdown",
   "metadata": {},
   "source": [
    "## Richmans- / Poormansmodel\n",
    "Try model with two fits, one for cheap and one for expensive houses"
   ]
  },
  {
   "cell_type": "code",
   "execution_count": 109,
   "metadata": {
    "jupyter": {
     "source_hidden": true
    }
   },
   "outputs": [],
   "source": [
    "class richpoor:\n",
    "    def __init__(self):\n",
    "        # standard settings\n",
    "        self.rp_coeff = 1030000\n",
    "        self.rp_range = 15000\n",
    "        self.features = ['sqft_living', 'sqft_above', 'bathrooms']\n",
    "        self.dummies = ['grade', 'zipcode', 'view']\n",
    "    def fit_rp(self, dataFrame):\n",
    "        \"\"\" fit model to decide rich or poor \"\"\"\n",
    "        dataset = get_train_test_sets_wdummies(self.features, self.dummies, dataFrame, 'price')\n",
    "        x_train, y_train, x_test, y_test = dataset['x_train'], dataset['y_train'], dataset['x_test'], dataset['y_test']\n",
    "\n",
    "        rp_model = LinearRegression().fit(x_train, y_train)\n",
    "        self.rp_model = rp_model\n",
    "        \n",
    "        df_rich = dataFrame[dataFrame.price > self.rp_coeff - self.rp_range]\n",
    "        if df_rich.shape[0] < 2:\n",
    "            print(\"range or coeff is set badly\")\n",
    "\n",
    "        dataset = get_train_test_sets_wdummies(self.features, self.dummies, df_rich, 'price')\n",
    "        x_train, y_train, x_test, y_test = dataset['x_train'], dataset['y_train'], dataset['x_test'], dataset['y_test']\n",
    "\n",
    "        model_rich = LinearRegression().fit(x_train, y_train)\n",
    "        self.model_rich = model_rich\n",
    "        \n",
    "        df_poor = dataFrame[dataFrame.price < self.rp_coeff + self.rp_range]\n",
    "        if df_poor.shape[0] < 2:\n",
    "            print(\"range or coeff is set badly\")\n",
    "\n",
    "        dataset = get_train_test_sets_wdummies(self.features, self.dummies, df_poor, 'price')\n",
    "        x_train, y_train, x_test, y_test = dataset['x_train'], dataset['y_train'], dataset['x_test'], dataset['y_test']\n",
    "\n",
    "        model_poor = LinearRegression().fit(x_train, y_train)\n",
    "        self.model_poor = model_poor\n",
    "        \n",
    "    def predict(self, x_test):\n",
    "\n",
    "        # Predict if rich or poor\n",
    "        y_pred = self.rp_model.predict(x_test)\n",
    "        mask_rich = (y_pred > self.rp_coeff)\n",
    "        mask_poor = (y_pred <= self.rp_coeff)\n",
    "\n",
    "        # Calculate all predicts\n",
    "        y_poor = self.model_poor.predict(x_test)\n",
    "        y_rich = self.model_rich.predict(x_test)\n",
    "\n",
    "        # Get the correct values from both sets\n",
    "        y_pred = y_rich * mask_rich + y_poor * mask_poor\n",
    "        \n",
    "        return y_pred"
   ]
  },
  {
   "cell_type": "code",
   "execution_count": 64,
   "metadata": {
    "jupyter": {
     "source_hidden": true
    }
   },
   "outputs": [],
   "source": [
    "# Get datasets\n",
    "dataset = get_train_test_sets_wdummies(features, dummies, h_price, 'price')\n",
    "x_train, y_train, x_test, y_test = dataset['x_train'], dataset['y_train'], dataset['x_test'], dataset['y_test']"
   ]
  },
  {
   "cell_type": "code",
   "execution_count": 65,
   "metadata": {
    "jupyter": {
     "source_hidden": true
    }
   },
   "outputs": [
    {
     "data": {
      "text/plain": [
       "0.16039578384439485"
      ]
     },
     "execution_count": 65,
     "metadata": {},
     "output_type": "execute_result"
    }
   ],
   "source": [
    "model = richpoor()\n",
    "model.fit_rp(h_price)\n",
    "mape(y_test, model.predict(x_test))"
   ]
  },
  {
   "cell_type": "code",
   "execution_count": 80,
   "metadata": {
    "jupyter": {
     "source_hidden": true
    }
   },
   "outputs": [
    {
     "name": "stdout",
     "output_type": "stream",
     "text": [
      "100.00% done!\r"
     ]
    }
   ],
   "source": [
    "# Test different settings\n",
    "model = richpoor()\n",
    "l = []\n",
    "count = 0\n",
    "#range1 = list(range(int(h_price.price.min())+10000, int(h_price.price.max())-1000000, 100000))\n",
    "#range2 = [100, 300, 500, 1000, 3000, 5000, 10000, 100000, 500000, 1000000, 3000000]\n",
    "#### best mape for coefficients (1088000, 10000) is 0.15616\n",
    "range1 = list(range(900000, 2000000, 10000))\n",
    "range2 = [5000, 15000, 1000]\n",
    "num = len(range1) * len(range2)\n",
    "for rp_coeff in range1:\n",
    "    for rp_range in range2:\n",
    "        count += 1\n",
    "        print('{:.2f}% done!'.format(count/num*100), end='\\r')\n",
    "        model.rp_coeff = rp_coeff\n",
    "        model.rp_range = rp_range\n",
    "        model.fit_rp(h_price)\n",
    "        mp = mape(y_test, model.predict(x_test))\n",
    "        l.append([(rp_coeff, rp_range), mp])"
   ]
  },
  {
   "cell_type": "code",
   "execution_count": 81,
   "metadata": {
    "collapsed": true,
    "jupyter": {
     "outputs_hidden": true,
     "source_hidden": true
    }
   },
   "outputs": [
    {
     "name": "stdout",
     "output_type": "stream",
     "text": [
      "mape for coefficients (1030000, 15000) is 0.15552\n",
      "mape for coefficients (1170000, 5000) is 0.15600\n",
      "mape for coefficients (1170000, 1000) is 0.15600\n",
      "mape for coefficients (1180000, 5000) is 0.15612\n",
      "mape for coefficients (1180000, 1000) is 0.15612\n",
      "mape for coefficients (1160000, 15000) is 0.15612\n",
      "mape for coefficients (940000, 1000) is 0.15613\n",
      "mape for coefficients (1080000, 15000) is 0.15616\n",
      "mape for coefficients (1140000, 15000) is 0.15621\n",
      "mape for coefficients (1190000, 15000) is 0.15623\n",
      "mape for coefficients (1100000, 5000) is 0.15630\n",
      "mape for coefficients (1100000, 1000) is 0.15630\n",
      "mape for coefficients (1120000, 5000) is 0.15636\n",
      "mape for coefficients (1120000, 1000) is 0.15636\n",
      "mape for coefficients (1020000, 5000) is 0.15640\n",
      "mape for coefficients (1020000, 1000) is 0.15640\n",
      "mape for coefficients (1150000, 5000) is 0.15640\n",
      "mape for coefficients (1150000, 1000) is 0.15640\n",
      "mape for coefficients (950000, 1000) is 0.15640\n",
      "mape for coefficients (1090000, 5000) is 0.15642\n",
      "mape for coefficients (1090000, 1000) is 0.15642\n",
      "mape for coefficients (1040000, 5000) is 0.15643\n",
      "mape for coefficients (1040000, 1000) is 0.15643\n",
      "mape for coefficients (1130000, 15000) is 0.15644\n",
      "mape for coefficients (1170000, 15000) is 0.15652\n",
      "mape for coefficients (1130000, 5000) is 0.15653\n",
      "mape for coefficients (1130000, 1000) is 0.15653\n",
      "mape for coefficients (1330000, 5000) is 0.15655\n",
      "mape for coefficients (1330000, 1000) is 0.15655\n",
      "mape for coefficients (1180000, 15000) is 0.15659\n",
      "mape for coefficients (950000, 15000) is 0.15660\n",
      "mape for coefficients (1110000, 15000) is 0.15661\n",
      "mape for coefficients (1190000, 5000) is 0.15663\n",
      "mape for coefficients (1190000, 1000) is 0.15663\n",
      "mape for coefficients (940000, 5000) is 0.15670\n",
      "mape for coefficients (1160000, 5000) is 0.15670\n",
      "mape for coefficients (1160000, 1000) is 0.15670\n",
      "mape for coefficients (940000, 15000) is 0.15671\n",
      "mape for coefficients (1250000, 15000) is 0.15672\n",
      "mape for coefficients (1200000, 15000) is 0.15672\n",
      "mape for coefficients (1090000, 15000) is 0.15673\n",
      "mape for coefficients (930000, 15000) is 0.15675\n",
      "mape for coefficients (950000, 5000) is 0.15676\n",
      "mape for coefficients (1080000, 5000) is 0.15677\n",
      "mape for coefficients (1080000, 1000) is 0.15677\n",
      "mape for coefficients (930000, 5000) is 0.15682\n",
      "mape for coefficients (1100000, 15000) is 0.15683\n",
      "mape for coefficients (1240000, 5000) is 0.15683\n",
      "mape for coefficients (1240000, 1000) is 0.15683\n",
      "mape for coefficients (1230000, 15000) is 0.15687\n",
      "mape for coefficients (960000, 15000) is 0.15688\n",
      "mape for coefficients (1320000, 15000) is 0.15692\n",
      "mape for coefficients (1220000, 15000) is 0.15699\n",
      "mape for coefficients (1260000, 5000) is 0.15700\n",
      "mape for coefficients (1260000, 1000) is 0.15700\n",
      "mape for coefficients (1070000, 15000) is 0.15703\n",
      "mape for coefficients (1210000, 5000) is 0.15703\n",
      "mape for coefficients (1210000, 1000) is 0.15703\n",
      "mape for coefficients (1280000, 5000) is 0.15704\n",
      "mape for coefficients (1280000, 1000) is 0.15704\n",
      "mape for coefficients (930000, 1000) is 0.15704\n",
      "mape for coefficients (1230000, 5000) is 0.15705\n",
      "mape for coefficients (1230000, 1000) is 0.15705\n",
      "mape for coefficients (1220000, 5000) is 0.15708\n",
      "mape for coefficients (1220000, 1000) is 0.15708\n",
      "mape for coefficients (1280000, 15000) is 0.15709\n",
      "mape for coefficients (1140000, 5000) is 0.15711\n",
      "mape for coefficients (1140000, 1000) is 0.15711\n",
      "mape for coefficients (1000000, 5000) is 0.15711\n",
      "mape for coefficients (1070000, 5000) is 0.15713\n",
      "mape for coefficients (1070000, 1000) is 0.15713\n",
      "mape for coefficients (1270000, 15000) is 0.15714\n",
      "mape for coefficients (1060000, 5000) is 0.15714\n",
      "mape for coefficients (1060000, 1000) is 0.15714\n",
      "mape for coefficients (1310000, 15000) is 0.15718\n",
      "mape for coefficients (1050000, 15000) is 0.15718\n",
      "mape for coefficients (1290000, 5000) is 0.15721\n",
      "mape for coefficients (1290000, 1000) is 0.15721\n",
      "mape for coefficients (1010000, 15000) is 0.15721\n",
      "mape for coefficients (1050000, 5000) is 0.15721\n",
      "mape for coefficients (1050000, 1000) is 0.15721\n",
      "mape for coefficients (1320000, 5000) is 0.15722\n",
      "mape for coefficients (1320000, 1000) is 0.15722\n",
      "mape for coefficients (1200000, 5000) is 0.15725\n",
      "mape for coefficients (1200000, 1000) is 0.15725\n",
      "mape for coefficients (1300000, 5000) is 0.15726\n",
      "mape for coefficients (1300000, 1000) is 0.15726\n",
      "mape for coefficients (920000, 5000) is 0.15728\n",
      "mape for coefficients (1270000, 5000) is 0.15729\n",
      "mape for coefficients (1270000, 1000) is 0.15729\n",
      "mape for coefficients (980000, 1000) is 0.15730\n",
      "mape for coefficients (1000000, 1000) is 0.15736\n",
      "mape for coefficients (1240000, 15000) is 0.15741\n",
      "mape for coefficients (1250000, 5000) is 0.15742\n",
      "mape for coefficients (1250000, 1000) is 0.15742\n",
      "mape for coefficients (960000, 5000) is 0.15743\n",
      "mape for coefficients (1060000, 15000) is 0.15745\n",
      "mape for coefficients (1150000, 15000) is 0.15746\n",
      "mape for coefficients (1030000, 5000) is 0.15754\n",
      "mape for coefficients (1030000, 1000) is 0.15754\n",
      "mape for coefficients (1300000, 15000) is 0.15756\n",
      "mape for coefficients (1260000, 15000) is 0.15758\n",
      "mape for coefficients (970000, 5000) is 0.15762\n",
      "mape for coefficients (1390000, 5000) is 0.15765\n",
      "mape for coefficients (1390000, 1000) is 0.15765\n",
      "mape for coefficients (990000, 1000) is 0.15768\n",
      "mape for coefficients (1020000, 15000) is 0.15769\n",
      "mape for coefficients (990000, 15000) is 0.15770\n",
      "mape for coefficients (1290000, 15000) is 0.15771\n",
      "mape for coefficients (1340000, 15000) is 0.15772\n",
      "mape for coefficients (970000, 15000) is 0.15772\n",
      "mape for coefficients (960000, 1000) is 0.15773\n",
      "mape for coefficients (1380000, 15000) is 0.15774\n",
      "mape for coefficients (1010000, 5000) is 0.15776\n",
      "mape for coefficients (1010000, 1000) is 0.15776\n",
      "mape for coefficients (1350000, 15000) is 0.15778\n",
      "mape for coefficients (1310000, 5000) is 0.15779\n",
      "mape for coefficients (1310000, 1000) is 0.15779\n",
      "mape for coefficients (920000, 15000) is 0.15785\n",
      "mape for coefficients (1210000, 15000) is 0.15785\n",
      "mape for coefficients (920000, 1000) is 0.15786\n",
      "mape for coefficients (1040000, 15000) is 0.15788\n",
      "mape for coefficients (1350000, 5000) is 0.15789\n",
      "mape for coefficients (1350000, 1000) is 0.15789\n",
      "mape for coefficients (1110000, 5000) is 0.15790\n",
      "mape for coefficients (1110000, 1000) is 0.15790\n",
      "mape for coefficients (980000, 15000) is 0.15793\n",
      "mape for coefficients (1330000, 15000) is 0.15799\n",
      "mape for coefficients (1360000, 5000) is 0.15800\n",
      "mape for coefficients (1360000, 1000) is 0.15800\n",
      "mape for coefficients (910000, 5000) is 0.15803\n",
      "mape for coefficients (990000, 5000) is 0.15803\n",
      "mape for coefficients (1380000, 5000) is 0.15804\n",
      "mape for coefficients (1380000, 1000) is 0.15804\n",
      "mape for coefficients (900000, 5000) is 0.15806\n",
      "mape for coefficients (1000000, 15000) is 0.15808\n",
      "mape for coefficients (1340000, 5000) is 0.15811\n",
      "mape for coefficients (1340000, 1000) is 0.15811\n",
      "mape for coefficients (1360000, 15000) is 0.15812\n",
      "mape for coefficients (1370000, 15000) is 0.15814\n",
      "mape for coefficients (1370000, 5000) is 0.15816\n",
      "mape for coefficients (1370000, 1000) is 0.15816\n",
      "mape for coefficients (980000, 5000) is 0.15827\n",
      "mape for coefficients (970000, 1000) is 0.15827\n",
      "mape for coefficients (1120000, 15000) is 0.15833\n",
      "mape for coefficients (910000, 15000) is 0.15833\n",
      "mape for coefficients (1420000, 5000) is 0.15852\n",
      "mape for coefficients (1420000, 1000) is 0.15852\n",
      "mape for coefficients (1410000, 15000) is 0.15857\n",
      "mape for coefficients (1400000, 15000) is 0.15863\n",
      "mape for coefficients (910000, 1000) is 0.15864\n",
      "mape for coefficients (1410000, 5000) is 0.15868\n",
      "mape for coefficients (1410000, 1000) is 0.15868\n",
      "mape for coefficients (1430000, 15000) is 0.15871\n",
      "mape for coefficients (1400000, 5000) is 0.15872\n",
      "mape for coefficients (1400000, 1000) is 0.15872\n",
      "mape for coefficients (900000, 15000) is 0.15874\n",
      "mape for coefficients (1390000, 15000) is 0.15875\n",
      "mape for coefficients (1440000, 5000) is 0.15884\n",
      "mape for coefficients (1440000, 1000) is 0.15884\n",
      "mape for coefficients (1420000, 15000) is 0.15904\n",
      "mape for coefficients (1430000, 5000) is 0.15921\n",
      "mape for coefficients (1430000, 1000) is 0.15921\n",
      "mape for coefficients (1460000, 5000) is 0.15925\n",
      "mape for coefficients (1460000, 1000) is 0.15925\n",
      "mape for coefficients (1450000, 15000) is 0.15937\n",
      "mape for coefficients (1460000, 15000) is 0.15945\n",
      "mape for coefficients (900000, 1000) is 0.15948\n",
      "mape for coefficients (1470000, 5000) is 0.15958\n",
      "mape for coefficients (1470000, 1000) is 0.15958\n",
      "mape for coefficients (1440000, 15000) is 0.15962\n",
      "mape for coefficients (1490000, 5000) is 0.15964\n",
      "mape for coefficients (1490000, 1000) is 0.15964\n",
      "mape for coefficients (1450000, 5000) is 0.15973\n",
      "mape for coefficients (1450000, 1000) is 0.15973\n",
      "mape for coefficients (1540000, 15000) is 0.15977\n",
      "mape for coefficients (1480000, 15000) is 0.15983\n",
      "mape for coefficients (1510000, 15000) is 0.15993\n",
      "mape for coefficients (1550000, 5000) is 0.16001\n",
      "mape for coefficients (1550000, 1000) is 0.16001\n",
      "mape for coefficients (1470000, 15000) is 0.16002\n",
      "mape for coefficients (1530000, 5000) is 0.16010\n",
      "mape for coefficients (1530000, 1000) is 0.16010\n",
      "mape for coefficients (1560000, 15000) is 0.16022\n",
      "mape for coefficients (1570000, 5000) is 0.16024\n",
      "mape for coefficients (1570000, 1000) is 0.16024\n",
      "mape for coefficients (1520000, 5000) is 0.16025\n",
      "mape for coefficients (1520000, 1000) is 0.16025\n",
      "mape for coefficients (1480000, 5000) is 0.16028\n",
      "mape for coefficients (1480000, 1000) is 0.16028\n",
      "mape for coefficients (1540000, 5000) is 0.16034\n",
      "mape for coefficients (1540000, 1000) is 0.16034\n",
      "mape for coefficients (1520000, 15000) is 0.16034\n",
      "mape for coefficients (1550000, 15000) is 0.16039\n",
      "mape for coefficients (1500000, 15000) is 0.16044\n",
      "mape for coefficients (1560000, 5000) is 0.16060\n",
      "mape for coefficients (1560000, 1000) is 0.16060\n",
      "mape for coefficients (1580000, 15000) is 0.16062\n",
      "mape for coefficients (1530000, 15000) is 0.16064\n",
      "mape for coefficients (1620000, 15000) is 0.16066\n",
      "mape for coefficients (1590000, 5000) is 0.16068\n",
      "mape for coefficients (1590000, 1000) is 0.16068\n",
      "mape for coefficients (1490000, 15000) is 0.16069\n",
      "mape for coefficients (1510000, 5000) is 0.16073\n",
      "mape for coefficients (1510000, 1000) is 0.16073\n",
      "mape for coefficients (1500000, 5000) is 0.16078\n",
      "mape for coefficients (1500000, 1000) is 0.16078\n",
      "mape for coefficients (1610000, 15000) is 0.16088\n",
      "mape for coefficients (1620000, 5000) is 0.16092\n",
      "mape for coefficients (1620000, 1000) is 0.16092\n",
      "mape for coefficients (1630000, 5000) is 0.16107\n",
      "mape for coefficients (1630000, 1000) is 0.16107\n",
      "mape for coefficients (1570000, 15000) is 0.16113\n",
      "mape for coefficients (1650000, 5000) is 0.16114\n",
      "mape for coefficients (1650000, 1000) is 0.16114\n",
      "mape for coefficients (1580000, 5000) is 0.16115\n",
      "mape for coefficients (1580000, 1000) is 0.16115\n",
      "mape for coefficients (1630000, 15000) is 0.16129\n",
      "mape for coefficients (1600000, 5000) is 0.16131\n",
      "mape for coefficients (1600000, 1000) is 0.16131\n",
      "mape for coefficients (1590000, 15000) is 0.16135\n",
      "mape for coefficients (1640000, 5000) is 0.16146\n",
      "mape for coefficients (1640000, 1000) is 0.16146\n",
      "mape for coefficients (1640000, 15000) is 0.16147\n",
      "mape for coefficients (1610000, 5000) is 0.16150\n",
      "mape for coefficients (1610000, 1000) is 0.16150\n",
      "mape for coefficients (1600000, 15000) is 0.16153\n",
      "mape for coefficients (1680000, 5000) is 0.16159\n",
      "mape for coefficients (1680000, 1000) is 0.16159\n",
      "mape for coefficients (1690000, 15000) is 0.16188\n",
      "mape for coefficients (1670000, 15000) is 0.16189\n",
      "mape for coefficients (1650000, 15000) is 0.16190\n",
      "mape for coefficients (1660000, 5000) is 0.16194\n",
      "mape for coefficients (1660000, 1000) is 0.16194\n",
      "mape for coefficients (1660000, 15000) is 0.16202\n",
      "mape for coefficients (1720000, 5000) is 0.16214\n",
      "mape for coefficients (1720000, 1000) is 0.16214\n",
      "mape for coefficients (1670000, 5000) is 0.16214\n",
      "mape for coefficients (1670000, 1000) is 0.16214\n",
      "mape for coefficients (1700000, 5000) is 0.16232\n",
      "mape for coefficients (1700000, 1000) is 0.16232\n",
      "mape for coefficients (1700000, 15000) is 0.16235\n",
      "mape for coefficients (1720000, 15000) is 0.16240\n",
      "mape for coefficients (1710000, 15000) is 0.16241\n",
      "mape for coefficients (1710000, 5000) is 0.16243\n",
      "mape for coefficients (1710000, 1000) is 0.16243\n",
      "mape for coefficients (1730000, 5000) is 0.16251\n",
      "mape for coefficients (1730000, 1000) is 0.16251\n",
      "mape for coefficients (1680000, 15000) is 0.16252\n",
      "mape for coefficients (1690000, 5000) is 0.16255\n",
      "mape for coefficients (1690000, 1000) is 0.16255\n",
      "mape for coefficients (1770000, 5000) is 0.16268\n",
      "mape for coefficients (1770000, 1000) is 0.16268\n",
      "mape for coefficients (1750000, 15000) is 0.16270\n",
      "mape for coefficients (1740000, 15000) is 0.16282\n",
      "mape for coefficients (1750000, 5000) is 0.16283\n",
      "mape for coefficients (1750000, 1000) is 0.16283\n",
      "mape for coefficients (1760000, 5000) is 0.16288\n",
      "mape for coefficients (1760000, 1000) is 0.16288\n",
      "mape for coefficients (1800000, 15000) is 0.16293\n",
      "mape for coefficients (1800000, 5000) is 0.16294\n",
      "mape for coefficients (1800000, 1000) is 0.16294\n",
      "mape for coefficients (1760000, 15000) is 0.16305\n",
      "mape for coefficients (1790000, 15000) is 0.16306\n",
      "mape for coefficients (1810000, 5000) is 0.16316\n",
      "mape for coefficients (1810000, 1000) is 0.16316\n",
      "mape for coefficients (1810000, 15000) is 0.16328\n",
      "mape for coefficients (1860000, 15000) is 0.16343\n",
      "mape for coefficients (1730000, 15000) is 0.16349\n",
      "mape for coefficients (1740000, 5000) is 0.16353\n",
      "mape for coefficients (1740000, 1000) is 0.16353\n",
      "mape for coefficients (1870000, 5000) is 0.16361\n",
      "mape for coefficients (1870000, 1000) is 0.16361\n",
      "mape for coefficients (1820000, 5000) is 0.16365\n",
      "mape for coefficients (1820000, 1000) is 0.16365\n",
      "mape for coefficients (1780000, 15000) is 0.16380\n",
      "mape for coefficients (1790000, 5000) is 0.16380\n",
      "mape for coefficients (1790000, 1000) is 0.16380\n",
      "mape for coefficients (1780000, 5000) is 0.16387\n",
      "mape for coefficients (1780000, 1000) is 0.16387\n",
      "mape for coefficients (1770000, 15000) is 0.16390\n",
      "mape for coefficients (1820000, 15000) is 0.16394\n",
      "mape for coefficients (1850000, 5000) is 0.16412\n",
      "mape for coefficients (1850000, 1000) is 0.16412\n",
      "mape for coefficients (1890000, 5000) is 0.16419\n",
      "mape for coefficients (1890000, 1000) is 0.16419\n",
      "mape for coefficients (1830000, 5000) is 0.16420\n",
      "mape for coefficients (1830000, 1000) is 0.16420\n",
      "mape for coefficients (1880000, 15000) is 0.16424\n",
      "mape for coefficients (1840000, 15000) is 0.16426\n",
      "mape for coefficients (1840000, 5000) is 0.16449\n",
      "mape for coefficients (1840000, 1000) is 0.16449\n",
      "mape for coefficients (1830000, 15000) is 0.16450\n",
      "mape for coefficients (1850000, 15000) is 0.16456\n",
      "mape for coefficients (1860000, 5000) is 0.16457\n",
      "mape for coefficients (1860000, 1000) is 0.16457\n",
      "mape for coefficients (1930000, 15000) is 0.16464\n",
      "mape for coefficients (1880000, 5000) is 0.16466\n",
      "mape for coefficients (1880000, 1000) is 0.16466\n",
      "mape for coefficients (1870000, 15000) is 0.16466\n",
      "mape for coefficients (1910000, 5000) is 0.16468\n",
      "mape for coefficients (1910000, 1000) is 0.16468\n",
      "mape for coefficients (1940000, 5000) is 0.16481\n",
      "mape for coefficients (1940000, 1000) is 0.16481\n",
      "mape for coefficients (1990000, 5000) is 0.16483\n",
      "mape for coefficients (1990000, 1000) is 0.16483\n",
      "mape for coefficients (1930000, 5000) is 0.16484\n",
      "mape for coefficients (1930000, 1000) is 0.16484\n",
      "mape for coefficients (1920000, 15000) is 0.16486\n",
      "mape for coefficients (1900000, 15000) is 0.16489\n",
      "mape for coefficients (1920000, 5000) is 0.16489\n",
      "mape for coefficients (1920000, 1000) is 0.16489\n",
      "mape for coefficients (1910000, 15000) is 0.16493\n",
      "mape for coefficients (1940000, 15000) is 0.16496\n",
      "mape for coefficients (1980000, 15000) is 0.16498\n",
      "mape for coefficients (1950000, 15000) is 0.16502\n",
      "mape for coefficients (1950000, 5000) is 0.16503\n",
      "mape for coefficients (1950000, 1000) is 0.16503\n",
      "mape for coefficients (1960000, 5000) is 0.16506\n",
      "mape for coefficients (1960000, 1000) is 0.16506\n",
      "mape for coefficients (1990000, 15000) is 0.16507\n",
      "mape for coefficients (1980000, 5000) is 0.16523\n",
      "mape for coefficients (1980000, 1000) is 0.16523\n",
      "mape for coefficients (1960000, 15000) is 0.16531\n",
      "mape for coefficients (1970000, 5000) is 0.16540\n",
      "mape for coefficients (1970000, 1000) is 0.16540\n",
      "mape for coefficients (1970000, 15000) is 0.16546\n",
      "mape for coefficients (1900000, 5000) is 0.16566\n",
      "mape for coefficients (1900000, 1000) is 0.16566\n",
      "mape for coefficients (1890000, 15000) is 0.16574\n"
     ]
    }
   ],
   "source": [
    "# Get best model parameters\n",
    "l = sorted(l,key=lambda x: x[1])#, reverse=True)\n",
    "for i in l:\n",
    "    print('mape for coefficients {} is {:.5f}'.format(i[0], i[1]))"
   ]
  },
  {
   "cell_type": "code",
   "execution_count": null,
   "metadata": {},
   "outputs": [],
   "source": []
  },
  {
   "cell_type": "code",
   "execution_count": 96,
   "metadata": {
    "jupyter": {
     "source_hidden": true
    }
   },
   "outputs": [
    {
     "name": "stdout",
     "output_type": "stream",
     "text": [
      "price 565\n",
      "sqft_living 405\n",
      "(20625, 24)\n"
     ]
    }
   ],
   "source": [
    "# Loop over all features\n",
    "price_std = h_price.copy()\n",
    "x = 2.5\n",
    "for i in ['price', 'sqft_living']:\n",
    "    std = price_std[i].std()\n",
    "    mean = price_std[i].mean()\n",
    "    print('{} {}'.format(i, price_std[abs(price_std[i] - mean) > std*x][i].count()))\n",
    "    price_std = price_std[abs(price_std[i] - mean) < std*x]\n",
    "print(price_std.shape)"
   ]
  },
  {
   "cell_type": "code",
   "execution_count": 110,
   "metadata": {
    "jupyter": {
     "source_hidden": true
    }
   },
   "outputs": [
    {
     "data": {
      "text/plain": [
       "0.15509822965282283"
      ]
     },
     "execution_count": 110,
     "metadata": {},
     "output_type": "execute_result"
    }
   ],
   "source": [
    "model = richpoor()\n",
    "model.fit_rp(price_std)\n",
    "\n",
    "features = ['sqft_living', 'sqft_above', 'bathrooms']\n",
    "dummies = ['grade', 'zipcode', 'view']\n",
    "model.features = features\n",
    "model.dummies = dummies\n",
    "dataset = get_train_test_sets_wdummies(features, dummies, h_price, 'price')\n",
    "x_train, y_train, x_test, y_test = dataset['x_train'], dataset['y_train'], dataset['x_test'], dataset['y_test']\n",
    "mape(y_test, model.predict(x_test))"
   ]
  },
  {
   "cell_type": "markdown",
   "metadata": {},
   "source": [
    "* value only slightly better, linear regression is good to fit model"
   ]
  },
  {
   "cell_type": "code",
   "execution_count": null,
   "metadata": {},
   "outputs": [],
   "source": []
  }
 ],
 "metadata": {
  "kernelspec": {
   "display_name": "Python [conda env:nf] *",
   "language": "python",
   "name": "conda-env-nf-py"
  },
  "language_info": {
   "codemirror_mode": {
    "name": "ipython",
    "version": 3
   },
   "file_extension": ".py",
   "mimetype": "text/x-python",
   "name": "python",
   "nbconvert_exporter": "python",
   "pygments_lexer": "ipython3",
   "version": "3.6.10"
  }
 },
 "nbformat": 4,
 "nbformat_minor": 4
}
