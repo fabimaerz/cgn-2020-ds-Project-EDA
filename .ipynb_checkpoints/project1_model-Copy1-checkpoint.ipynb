{
 "cells": [
  {
   "cell_type": "markdown",
   "metadata": {},
   "source": [
    "# Model Fitting"
   ]
  },
  {
   "cell_type": "markdown",
   "metadata": {},
   "source": [
    "## Load Dataset"
   ]
  },
  {
   "cell_type": "code",
   "execution_count": 1,
   "metadata": {},
   "outputs": [],
   "source": [
    "# Import libraries\n",
    "import pandas as pd\n",
    "import numpy as np\n",
    "import matplotlib.pyplot as plt\n",
    "%matplotlib inline\n",
    "import seaborn as sns\n",
    "# To save dict\n",
    "import pickle"
   ]
  },
  {
   "cell_type": "code",
   "execution_count": 2,
   "metadata": {},
   "outputs": [],
   "source": [
    "# load dataset\n",
    "h_price = pd.read_csv(\"King_County_House_prices_dataset.csv\")#, na_values=['?'])"
   ]
  },
  {
   "cell_type": "markdown",
   "metadata": {},
   "source": [
    "# Edit Dataset"
   ]
  },
  {
   "cell_type": "code",
   "execution_count": 3,
   "metadata": {},
   "outputs": [],
   "source": [
    "### Change date to useful data eg date, month, year\n",
    "h_price['date_m'] = np.array([i.split('/')[0] for i in h_price.date.values]).astype(int)\n",
    "h_price['date_d'] = np.array([i.split('/')[1] for i in h_price.date.values]).astype(int)\n",
    "h_price['date_y'] = np.array([i.split('/')[2] for i in h_price.date.values]).astype(int)"
   ]
  },
  {
   "cell_type": "code",
   "execution_count": 4,
   "metadata": {},
   "outputs": [],
   "source": [
    "# 33 bedrooms, coordinates show small house, outlier, not useful for analysis\n",
    "h_price.bedrooms.argmax()\n",
    "h_price[15856:15857]\n",
    "##### remove false bedrooms\n",
    "h_price = h_price.drop(h_price.index[h_price.bedrooms.argmax()])\n",
    "#h_price.sort_values('bedrooms', ascending=False).head(3)"
   ]
  },
  {
   "cell_type": "code",
   "execution_count": 5,
   "metadata": {},
   "outputs": [],
   "source": [
    "#h_price.plot.scatter(x='sqft_living', y='price');\n",
    "# linear dependence, one obvious outlier\n",
    "h_price = h_price.drop(h_price.index[h_price.sqft_living.argmax()])"
   ]
  },
  {
   "cell_type": "markdown",
   "metadata": {},
   "source": [
    "## Functions / Imports"
   ]
  },
  {
   "cell_type": "code",
   "execution_count": 6,
   "metadata": {},
   "outputs": [],
   "source": [
    "### All dummies\n",
    "all_dummies = {}\n",
    "for i in ['zipcode', 'condition', 'date_m', 'grade', 'waterfront', 'view', 'yr_renovated']:\n",
    "    tmp = pd.get_dummies(h_price[i], prefix=i)\n",
    "    all_dummies[i] = tmp.columns.values\n",
    "# save dict\n",
    "with open('dummies.pkl', 'wb') as f:\n",
    "    pickle.dump(all_dummies, f, pickle.HIGHEST_PROTOCOL)"
   ]
  },
  {
   "cell_type": "code",
   "execution_count": 7,
   "metadata": {},
   "outputs": [
    {
     "name": "stdout",
     "output_type": "stream",
     "text": [
      "SkLearn version is 0.23.2\n"
     ]
    }
   ],
   "source": [
    "# Dataset\n",
    "import sklearn\n",
    "# function to shuffle dataset and divide into test and train set\n",
    "from sklearn.model_selection import train_test_split\n",
    "# Model\n",
    "from sklearn.linear_model import LinearRegression\n",
    "# Model with regularization\n",
    "from sklearn.linear_model import Ridge\n",
    "print('SkLearn version is {}'.format(sklearn.__version__))"
   ]
  },
  {
   "cell_type": "code",
   "execution_count": 142,
   "metadata": {},
   "outputs": [
    {
     "name": "stdout",
     "output_type": "stream",
     "text": [
      "0.5370480325728262 0.52769201345116\n"
     ]
    }
   ],
   "source": [
    "def get_train_test_sets(features, dataFrame, res):\n",
    "    ''' input list of features: list of strings\n",
    "        input dataframe\n",
    "        res: feature of interest'''\n",
    "    X = dataFrame[features].values\n",
    "    \n",
    "    # reshape array to nFeatures, m\n",
    "    if len(X.shape) == 1:\n",
    "        X = X.reshape(X.shape[0], 1)\n",
    "    #print(X.shape)\n",
    "\n",
    "    y = dataFrame[res].values\n",
    "    y = y.reshape(y.shape[0], 1)\n",
    "    \n",
    "    x_train, x_test, y_train, y_test = train_test_split(X, y, test_size=0.3, random_state=42, shuffle=True)\n",
    "    \n",
    "    dataset = {'x_train': x_train,\n",
    "               'x_test': x_test,\n",
    "               'y_train': y_train,\n",
    "               'y_test': y_test}\n",
    "    \n",
    "    return dataset\n",
    "\n",
    "def get_train_test_sets_wdummies(features, features_dummies, dataFrame, res):\n",
    "    ''' input list of features: list of strings\n",
    "        input list of dummy features: list of strings\n",
    "        input dataframe\n",
    "        res: feature of interest'''\n",
    "    # load dict\n",
    "    with open('dummies.pkl', 'rb') as f:\n",
    "        all_dummies = pickle.load(f)\n",
    "    ## Add dummies to features / data frame\n",
    "    copy = dataFrame.copy()\n",
    "    # Reset index to concat\n",
    "    copy = copy.reset_index(drop=True)\n",
    "    for feat_dum in features_dummies:\n",
    "        df = pd.get_dummies(copy[feat_dum], prefix=feat_dum)\n",
    "        # Add all missing dummy values\n",
    "        dummies = all_dummies[feat_dum]\n",
    "        # initializing dummies with zeros\n",
    "        df_all = pd.DataFrame(0, index=np.arange(df.shape[0]), columns = dummies)\n",
    "        # Add all existing ones in correct order -> loop over full one\n",
    "        for feat in df.columns.values:\n",
    "            df_all[feat] = df[feat]\n",
    "        #df.drop(df.columns[len(df.columns)-1], axis=1, inplace=True)\n",
    "        features = features + list(df_all.columns.values)\n",
    "        copy = pd.concat([copy, df_all], axis=1, sort=False)\n",
    "\n",
    "    X = copy[features].values\n",
    "    \n",
    "    # reshape array to nFeatures, m\n",
    "    if len(X.shape) == 1:\n",
    "        X = X.reshape(X.shape[0], 1)\n",
    "    #print(X.shape)\n",
    "\n",
    "    y = dataFrame[res].values\n",
    "    y = y.reshape(y.shape[0], 1)\n",
    "    \n",
    "    x_train, x_test, y_train, y_test = train_test_split(X, y, test_size=0.3, random_state=42, shuffle=True)\n",
    "    \n",
    "    dataset = {'x_train': x_train,\n",
    "               'x_test' : x_test,\n",
    "               'y_train': y_train,\n",
    "               'y_test' : y_test}\n",
    "    \n",
    "    return dataset\n",
    "\n",
    "# MAPE mean absolute percentage error\n",
    "def mape(a,b):\n",
    "    \"\"\" calculate MAPE, input (y_true, y_pred)\"\"\"\n",
    "    mask = a != 0\n",
    "    return (np.fabs(a-b)/a)[mask].mean()\n",
    "\n",
    "def get_mape_from_dataset(dataset):\n",
    "    ''' input dataset, fit model to train_set, get mape of model for train, test_set'''\n",
    "    x_train, y_train, x_test, y_test = dataset['x_train'], dataset['y_train'], dataset['x_test'], dataset['y_test']\n",
    "    reg = LinearRegression().fit(x_train, y_train)\n",
    "    \n",
    "    return mape(y_train, reg.predict(x_train)), mape(y_test, reg.predict(x_test))\n",
    "\n",
    "def get_combinations(full_list):\n",
    "    \"\"\" return possible combinations of features in list\"\"\"\n",
    "    import itertools\n",
    "    combinations = []\n",
    "    # append all values\n",
    "    full_list = list(full_list)\n",
    "    if 'price' in full_list:\n",
    "        full_list.remove('price')\n",
    "    combinations.append(full_list)\n",
    "    for i in range(1, len(full_list)):\n",
    "        possib = list(itertools.combinations(full_list, r=i))\n",
    "        for x in possib:\n",
    "            combinations.append(list(x))\n",
    "    print('There are {} combinations'.format(len(combinations)))\n",
    "    \n",
    "    return combinations\n",
    "\n",
    "# Model functions:\n",
    "#    reg = LinearRegression().fit(x_train, y_train)                Fits the model to (x_train, y_train)\n",
    "#    reg.score(x_train, y_train), reg.score(x_test, y_test)        Get R^2 of the model\n",
    "#    reg.coef_, reg.intercept_                                     Get coefficients\n",
    "#    reg.predict(x_test)                                           Predict results from model\n",
    "\n",
    "\n",
    "# Test:\n",
    "dataset = get_train_test_sets(['sqft_living', 'grade'], h_price, 'price')\n",
    "x_train, y_train, x_test, y_test = dataset['x_train'], dataset['y_train'], dataset['x_test'], dataset['y_test']\n",
    "reg = LinearRegression().fit(x_train, y_train)\n",
    "print(reg.score(x_train, y_train), reg.score(x_test, y_test))"
   ]
  },
  {
   "cell_type": "markdown",
   "metadata": {},
   "source": [
    "## Shortly Test some combinations"
   ]
  },
  {
   "cell_type": "code",
   "execution_count": 145,
   "metadata": {},
   "outputs": [
    {
     "name": "stdout",
     "output_type": "stream",
     "text": [
      "There are 65535 combinations\n",
      "100.00% done!\r"
     ]
    }
   ],
   "source": [
    "# Create copy\n",
    "tmp = h_price.copy()\n",
    "# Remove dummy features etc\n",
    "tmp.drop(['waterfront', 'id', 'view', 'date', 'yr_renovated', 'zipcode', 'sqft_basement'], axis=1, inplace=True)\n",
    "\n",
    "combinations = get_combinations(tmp.columns.values)\n",
    "\n",
    "count = 0\n",
    "num = len(combinations)\n",
    "results = []\n",
    "for comb in combinations:\n",
    "    count += 1\n",
    "    print('{:.2f}% done!'.format(count/num*100), end='\\r')\n",
    "    dataset = get_train_test_sets_wdummies(comb, [], tmp, 'price')\n",
    "    results.append(get_mape_from_dataset(dataset))\n",
    "    \n",
    "comb_dict = {'results': results,\n",
    "             'combs': combinations}\n",
    "# save dict\n",
    "with open('combin.pkl', 'wb') as f:\n",
    "    pickle.dump(comb_dict, f, pickle.HIGHEST_PROTOCOL)"
   ]
  },
  {
   "cell_type": "code",
   "execution_count": 153,
   "metadata": {},
   "outputs": [
    {
     "ename": "IndexError",
     "evalue": "list index out of range",
     "output_type": "error",
     "traceback": [
      "\u001b[0;31m---------------------------------------------------------------------------\u001b[0m",
      "\u001b[0;31mIndexError\u001b[0m                                Traceback (most recent call last)",
      "\u001b[0;32m<ipython-input-153-a5906da372d3>\u001b[0m in \u001b[0;36m<module>\u001b[0;34m\u001b[0m\n\u001b[1;32m      6\u001b[0m \u001b[0;31m# show best result\u001b[0m\u001b[0;34m\u001b[0m\u001b[0;34m\u001b[0m\u001b[0;34m\u001b[0m\u001b[0m\n\u001b[1;32m      7\u001b[0m \u001b[0mm\u001b[0m \u001b[0;34m=\u001b[0m \u001b[0mnp\u001b[0m\u001b[0;34m.\u001b[0m\u001b[0margmin\u001b[0m\u001b[0;34m(\u001b[0m\u001b[0mresults\u001b[0m\u001b[0;34m)\u001b[0m\u001b[0;34m\u001b[0m\u001b[0;34m\u001b[0m\u001b[0m\n\u001b[0;32m----> 8\u001b[0;31m \u001b[0mprint\u001b[0m\u001b[0;34m(\u001b[0m\u001b[0mresults\u001b[0m\u001b[0;34m[\u001b[0m\u001b[0mm\u001b[0m\u001b[0;34m]\u001b[0m\u001b[0;34m)\u001b[0m\u001b[0;34m\u001b[0m\u001b[0;34m\u001b[0m\u001b[0m\n\u001b[0m\u001b[1;32m      9\u001b[0m \u001b[0mprint\u001b[0m\u001b[0;34m(\u001b[0m\u001b[0mcombinations\u001b[0m\u001b[0;34m[\u001b[0m\u001b[0mm\u001b[0m\u001b[0;34m]\u001b[0m\u001b[0;34m)\u001b[0m\u001b[0;34m\u001b[0m\u001b[0;34m\u001b[0m\u001b[0m\n\u001b[1;32m     10\u001b[0m \u001b[0;34m\u001b[0m\u001b[0m\n",
      "\u001b[0;31mIndexError\u001b[0m: list index out of range"
     ]
    }
   ],
   "source": [
    "# load dict\n",
    "with open('combin.pkl', 'rb') as f:\n",
    "    comb_dict = pickle.load(f)\n",
    "results = comb_dict['results']\n",
    "combinations = comb_dict['combs']\n",
    "# show best result\n",
    "m = np.argmin(results)\n",
    "print(results[m])\n",
    "print(combinations[m])\n",
    "\n",
    "# Best one:\n",
    "#0.2689278194731115\n",
    "#['bedrooms', 'bathrooms', 'sqft_living', 'floors', 'condition', 'grade', 'yr_built', 'lat', 'sqft_living15', 'date_m', 'date_y']"
   ]
  },
  {
   "cell_type": "markdown",
   "metadata": {},
   "source": [
    "## Calculate all R^2"
   ]
  },
  {
   "cell_type": "code",
   "execution_count": 11,
   "metadata": {},
   "outputs": [
    {
     "name": "stdout",
     "output_type": "stream",
     "text": [
      "R^2 for feature price is 1.00\n",
      "R^2 for feature sqft_living is 0.50\n",
      "R^2 for feature grade is 0.45\n",
      "R^2 for feature sqft_above is 0.36\n",
      "R^2 for feature sqft_living15 is 0.35\n",
      "R^2 for feature bathrooms is 0.28\n",
      "R^2 for feature bedrooms is 0.10\n",
      "R^2 for feature lat is 0.09\n",
      "R^2 for feature floors is 0.06\n",
      "R^2 for feature sqft_lot is 0.01\n",
      "R^2 for feature sqft_lot15 is 0.01\n",
      "R^2 for feature zipcode is 0.00\n",
      "R^2 for feature yr_built is 0.00\n",
      "R^2 for feature condition is 0.00\n",
      "R^2 for feature long is 0.00\n",
      "R^2 for feature date_m is 0.00\n",
      "R^2 for feature date_y is 0.00\n",
      "R^2 for feature date_d is 0.00\n"
     ]
    }
   ],
   "source": [
    "l = []\n",
    "for feature in ['bedrooms', 'price', 'bathrooms', 'sqft_living',\n",
    "                'sqft_lot', 'floors', 'condition', 'grade',\n",
    "                'sqft_above', 'yr_built',\n",
    "                'zipcode', 'lat', 'long', 'sqft_living15', 'sqft_lot15', 'date_m',\n",
    "                'date_d', 'date_y']:\n",
    "    dataset = get_train_test_sets([feature], h_price, 'price')\n",
    "    #print(feature)\n",
    "    x_train, y_train, x_test, y_test = dataset['x_train'], dataset['y_train'], dataset['x_test'], dataset['y_test']\n",
    "    reg = LinearRegression().fit(x_train, y_train)\n",
    "    l.append([feature, reg.score(x_train, y_train)])\n",
    "l = sorted(l,key=lambda x: x[1], reverse=True)\n",
    "for i in l:\n",
    "    print('R^2 for feature {} is {:.2f}'.format(i[0], i[1]))"
   ]
  },
  {
   "cell_type": "markdown",
   "metadata": {},
   "source": [
    "* sqft_living, grade, sqft_above, sqft_living15, bathrooms = big corr\n",
    "* bedrooms, floors = low corr\n",
    "* zipcode, condition, date_m test with dummies (also grade because it's exponential)"
   ]
  },
  {
   "cell_type": "markdown",
   "metadata": {},
   "source": [
    "## Dummy test"
   ]
  },
  {
   "cell_type": "code",
   "execution_count": 12,
   "metadata": {},
   "outputs": [
    {
     "name": "stdout",
     "output_type": "stream",
     "text": [
      "R^2 for feature grade is 0.52\n",
      "R^2 for feature zipcode is 0.41\n",
      "R^2 for feature view is 0.17\n",
      "R^2 for feature waterfront is 0.07\n",
      "R^2 for feature yr_renovated is 0.03\n",
      "R^2 for feature condition is 0.01\n",
      "R^2 for feature date_m is 0.00\n"
     ]
    }
   ],
   "source": [
    "l = []\n",
    "for feature in ['zipcode', 'condition', 'date_m', 'grade', 'waterfront', 'view', 'yr_renovated']:\n",
    "    tmp = h_price.copy()\n",
    "    df = pd.get_dummies(tmp[feature])\n",
    "    features = df.columns.values\n",
    "    tmp = tmp.join(df)\n",
    "    dataset = get_train_test_sets(features, tmp, 'price')\n",
    "    #print(feature)\n",
    "    x_train, y_train, x_test, y_test = dataset['x_train'], dataset['y_train'], dataset['x_test'], dataset['y_test']\n",
    "    reg = LinearRegression().fit(x_train, y_train)\n",
    "    l.append([feature, reg.score(x_train, y_train)])\n",
    "l = sorted(l,key=lambda x: x[1], reverse=True)\n",
    "for i in l:\n",
    "    print('R^2 for feature {} is {:.2f}'.format(i[0], i[1]))"
   ]
  },
  {
   "cell_type": "markdown",
   "metadata": {},
   "source": [
    "* grade correlates better as dummy\n",
    "* zipcode also very good correlation\n",
    "* view correlation not bad\n",
    "* waterfront, condition, date_m no single correlation, check in combination"
   ]
  },
  {
   "cell_type": "markdown",
   "metadata": {},
   "source": [
    "## Try to built values for damaged columns"
   ]
  },
  {
   "cell_type": "markdown",
   "metadata": {
    "jupyter": {
     "source_hidden": true
    }
   },
   "source": [
    "### .1 View"
   ]
  },
  {
   "cell_type": "code",
   "execution_count": 13,
   "metadata": {
    "collapsed": true,
    "jupyter": {
     "outputs_hidden": true,
     "source_hidden": true
    }
   },
   "outputs": [
    {
     "name": "stdout",
     "output_type": "stream",
     "text": [
      "number of missing values is 63\n",
      "R^2 for feature price is 0.16\n",
      "R^2 for feature waterfrontdummy is 0.15\n",
      "R^2 for feature sqft_living is 0.08\n",
      "R^2 for feature sqft_living15 is 0.08\n",
      "R^2 for feature zipcodedummy is 0.08\n",
      "R^2 for feature gradedummy is 0.07\n",
      "R^2 for feature grade is 0.06\n",
      "R^2 for feature bathrooms is 0.03\n",
      "R^2 for feature sqft_above is 0.03\n",
      "R^2 for feature zipcode is 0.01\n",
      "R^2 for feature bedrooms is 0.01\n",
      "R^2 for feature long is 0.01\n",
      "R^2 for feature sqft_lot15 is 0.01\n",
      "R^2 for feature sqft_lot is 0.00\n",
      "R^2 for feature yr_built is 0.00\n",
      "R^2 for feature conditiondummy is 0.00\n",
      "R^2 for feature condition is 0.00\n",
      "R^2 for feature floors is 0.00\n",
      "R^2 for feature date_mdummy is 0.00\n",
      "R^2 for feature lat is 0.00\n",
      "R^2 for feature date_y is 0.00\n",
      "R^2 for feature date_m is 0.00\n",
      "R^2 for feature date_d is 0.00\n"
     ]
    }
   ],
   "source": [
    "print('number of missing values is {}'.format(h_price.view.isna().sum()))\n",
    "copy = h_price.dropna(subset = ['view'])\n",
    "l = []\n",
    "for feature in ['bedrooms', 'price', 'bathrooms', 'sqft_living',\n",
    "                'sqft_lot', 'floors', 'condition', 'grade',\n",
    "                'sqft_above', 'yr_built',\n",
    "                'zipcode', 'lat', 'long', 'sqft_living15', 'sqft_lot15', 'date_m',\n",
    "                'date_d', 'date_y']:\n",
    "    dataset = get_train_test_sets([feature], copy, 'view')\n",
    "    #print(feature)\n",
    "    x_train, y_train, x_test, y_test = dataset['x_train'], dataset['y_train'], dataset['x_test'], dataset['y_test']\n",
    "    reg = LinearRegression().fit(x_train, y_train)\n",
    "    l.append([feature, reg.score(x_train, y_train)])\n",
    "for feature in ['zipcode', 'condition', 'date_m', 'grade', 'waterfront']:\n",
    "    tmp = copy.copy()\n",
    "    df = pd.get_dummies(tmp[feature])\n",
    "    features = df.columns.values\n",
    "    tmp = tmp.join(df)\n",
    "    dataset = get_train_test_sets(features, tmp, 'view')\n",
    "    #print(feature)\n",
    "    x_train, y_train, x_test, y_test = dataset['x_train'], dataset['y_train'], dataset['x_test'], dataset['y_test']\n",
    "    reg = LinearRegression().fit(x_train, y_train)\n",
    "    l.append([feature + 'dummy', reg.score(x_train, y_train)])\n",
    "l = sorted(l,key=lambda x: x[1], reverse=True)\n",
    "for i in l:\n",
    "    print('R^2 for feature {} is {:.2f}'.format(i[0], i[1]))"
   ]
  },
  {
   "cell_type": "code",
   "execution_count": 14,
   "metadata": {
    "collapsed": true,
    "jupyter": {
     "outputs_hidden": true,
     "source_hidden": true
    }
   },
   "outputs": [
    {
     "data": {
      "text/plain": [
       "(-51384555.98571988, 0.32320516906453256)"
      ]
     },
     "execution_count": 14,
     "metadata": {},
     "output_type": "execute_result"
    }
   ],
   "source": [
    "copy = h_price.dropna(subset = ['view'])\n",
    "features = ['price', 'sqft_living']\n",
    "for dum in ['waterfront', 'grade', 'zipcode']:\n",
    "    df = pd.get_dummies(copy[dum])\n",
    "    features = features + list(df.columns.values)\n",
    "    copy = copy.join(df)\n",
    "\n",
    "dataset = get_train_test_sets(features, copy, 'view')\n",
    "x_train, y_train, x_test, y_test = dataset['x_train'], dataset['y_train'], dataset['x_test'], dataset['y_test']\n",
    "reg = LinearRegression().fit(x_train, y_train)\n",
    "reg.score(x_test, y_test), reg.score(x_train, y_train)\n",
    "# score = 1 - (u/v)"
   ]
  },
  {
   "cell_type": "markdown",
   "metadata": {
    "jupyter": {
     "source_hidden": true
    }
   },
   "source": [
    "### .2 yr_renovated"
   ]
  },
  {
   "cell_type": "code",
   "execution_count": 15,
   "metadata": {
    "collapsed": true,
    "jupyter": {
     "outputs_hidden": true,
     "source_hidden": true
    }
   },
   "outputs": [
    {
     "name": "stdout",
     "output_type": "stream",
     "text": [
      "number of missing values is 3842\n",
      "R^2 for feature yr_built is 0.05\n",
      "R^2 for feature zipcodedummy is 0.03\n",
      "R^2 for feature price is 0.02\n",
      "R^2 for feature waterfrontdummy is 0.01\n",
      "R^2 for feature zipcode is 0.00\n",
      "R^2 for feature long is 0.00\n",
      "R^2 for feature conditiondummy is 0.00\n",
      "R^2 for feature sqft_living is 0.00\n",
      "R^2 for feature condition is 0.00\n",
      "R^2 for feature bathrooms is 0.00\n",
      "R^2 for feature gradedummy is 0.00\n",
      "R^2 for feature date_mdummy is 0.00\n",
      "R^2 for feature sqft_above is 0.00\n",
      "R^2 for feature lat is 0.00\n",
      "R^2 for feature date_y is 0.00\n",
      "R^2 for feature grade is 0.00\n",
      "R^2 for feature bedrooms is 0.00\n",
      "R^2 for feature sqft_lot is 0.00\n",
      "R^2 for feature date_d is 0.00\n",
      "R^2 for feature date_m is 0.00\n",
      "R^2 for feature floors is 0.00\n",
      "R^2 for feature sqft_lot15 is 0.00\n",
      "R^2 for feature sqft_living15 is 0.00\n"
     ]
    }
   ],
   "source": [
    "print('number of missing values is {}'.format(h_price.yr_renovated.isna().sum()))\n",
    "copy = h_price.dropna(subset = ['yr_renovated'])\n",
    "l = []\n",
    "for feature in ['bedrooms', 'price', 'bathrooms', 'sqft_living',\n",
    "                'sqft_lot', 'floors', 'condition', 'grade',\n",
    "                'sqft_above', 'yr_built',\n",
    "                'zipcode', 'lat', 'long', 'sqft_living15', 'sqft_lot15', 'date_m',\n",
    "                'date_d', 'date_y']:\n",
    "    dataset = get_train_test_sets([feature], copy, 'yr_renovated')\n",
    "    #print(feature)\n",
    "    x_train, y_train, x_test, y_test = dataset['x_train'], dataset['y_train'], dataset['x_test'], dataset['y_test']\n",
    "    reg = LinearRegression().fit(x_train, y_train)\n",
    "    l.append([feature, reg.score(x_train, y_train)])\n",
    "for feature in ['zipcode', 'condition', 'date_m', 'grade', 'waterfront']:\n",
    "    tmp = copy.copy()\n",
    "    df = pd.get_dummies(tmp[feature])\n",
    "    features = df.columns.values\n",
    "    tmp = tmp.join(df)\n",
    "    dataset = get_train_test_sets(features, tmp, 'yr_renovated')\n",
    "    #print(feature)\n",
    "    x_train, y_train, x_test, y_test = dataset['x_train'], dataset['y_train'], dataset['x_test'], dataset['y_test']\n",
    "    reg = LinearRegression().fit(x_train, y_train)\n",
    "    l.append([feature + 'dummy', reg.score(x_train, y_train)])\n",
    "l = sorted(l,key=lambda x: x[1], reverse=True)\n",
    "for i in l:\n",
    "    print('R^2 for feature {} is {:.2f}'.format(i[0], i[1]))"
   ]
  },
  {
   "cell_type": "code",
   "execution_count": 16,
   "metadata": {
    "collapsed": true,
    "jupyter": {
     "outputs_hidden": true,
     "source_hidden": true
    }
   },
   "outputs": [
    {
     "data": {
      "text/plain": [
       "(0.04828185421380182, 0.09140023869944625)"
      ]
     },
     "execution_count": 16,
     "metadata": {},
     "output_type": "execute_result"
    }
   ],
   "source": [
    "copy = h_price.dropna(subset = ['yr_renovated'])\n",
    "features = ['yr_built', 'price']\n",
    "for dum in ['zipcode']:\n",
    "    df = pd.get_dummies(copy[dum])\n",
    "    features = features + list(df.columns.values)\n",
    "    copy = copy.join(df)\n",
    "\n",
    "dataset = get_train_test_sets(features, copy, 'yr_renovated')\n",
    "x_train, y_train, x_test, y_test = dataset['x_train'], dataset['y_train'], dataset['x_test'], dataset['y_test']\n",
    "reg = LinearRegression().fit(x_train, y_train)\n",
    "reg.score(x_test, y_test), reg.score(x_train, y_train)\n",
    "# score = 1 - (u/v)"
   ]
  },
  {
   "cell_type": "markdown",
   "metadata": {
    "jupyter": {
     "source_hidden": true
    }
   },
   "source": [
    "### .3 Waterfront"
   ]
  },
  {
   "cell_type": "code",
   "execution_count": 17,
   "metadata": {
    "collapsed": true,
    "jupyter": {
     "outputs_hidden": true,
     "source_hidden": true
    }
   },
   "outputs": [
    {
     "name": "stdout",
     "output_type": "stream",
     "text": [
      "number of missing values is 63\n",
      "R^2 for feature price is 0.09\n",
      "R^2 for feature zipcodedummy is 0.04\n",
      "R^2 for feature gradedummy is 0.03\n",
      "R^2 for feature sqft_living is 0.01\n",
      "R^2 for feature grade is 0.01\n",
      "R^2 for feature sqft_living15 is 0.01\n",
      "R^2 for feature sqft_above is 0.01\n",
      "R^2 for feature bathrooms is 0.01\n",
      "R^2 for feature long is 0.00\n",
      "R^2 for feature sqft_lot15 is 0.00\n",
      "R^2 for feature floors is 0.00\n",
      "R^2 for feature zipcode is 0.00\n",
      "R^2 for feature conditiondummy is 0.00\n",
      "R^2 for feature date_mdummy is 0.00\n",
      "R^2 for feature sqft_lot is 0.00\n",
      "R^2 for feature yr_built is 0.00\n",
      "R^2 for feature condition is 0.00\n",
      "R^2 for feature date_d is 0.00\n",
      "R^2 for feature date_y is 0.00\n",
      "R^2 for feature lat is 0.00\n",
      "R^2 for feature date_m is 0.00\n",
      "R^2 for feature bedrooms is 0.00\n"
     ]
    }
   ],
   "source": [
    "print('number of missing values is {}'.format(h_price.view.isna().sum()))\n",
    "copy = h_price.dropna(subset = ['waterfront'])\n",
    "l = []\n",
    "for feature in ['bedrooms', 'price', 'bathrooms', 'sqft_living',\n",
    "                'sqft_lot', 'floors', 'condition', 'grade',\n",
    "                'sqft_above', 'yr_built',\n",
    "                'zipcode', 'lat', 'long', 'sqft_living15', 'sqft_lot15', 'date_m',\n",
    "                'date_d', 'date_y']:\n",
    "    dataset = get_train_test_sets([feature], copy, 'waterfront')\n",
    "    #print(feature)\n",
    "    x_train, y_train, x_test, y_test = dataset['x_train'], dataset['y_train'], dataset['x_test'], dataset['y_test']\n",
    "    reg = LinearRegression().fit(x_train, y_train)\n",
    "    l.append([feature, reg.score(x_train, y_train)])\n",
    "for feature in ['zipcode', 'condition', 'date_m', 'grade']:\n",
    "    tmp = copy.copy()\n",
    "    df = pd.get_dummies(tmp[feature])\n",
    "    features = df.columns.values\n",
    "    tmp = tmp.join(df)\n",
    "    dataset = get_train_test_sets(features, tmp, 'waterfront')\n",
    "    #print(feature)\n",
    "    x_train, y_train, x_test, y_test = dataset['x_train'], dataset['y_train'], dataset['x_test'], dataset['y_test']\n",
    "    reg = LinearRegression().fit(x_train, y_train)\n",
    "    l.append([feature + 'dummy', reg.score(x_train, y_train)])\n",
    "l = sorted(l,key=lambda x: x[1], reverse=True)\n",
    "for i in l:\n",
    "    print('R^2 for feature {} is {:.2f}'.format(i[0], i[1]))"
   ]
  },
  {
   "cell_type": "code",
   "execution_count": 18,
   "metadata": {
    "collapsed": true,
    "jupyter": {
     "outputs_hidden": true,
     "source_hidden": true
    }
   },
   "outputs": [
    {
     "data": {
      "text/plain": [
       "(0.130713515826837, 0.21508877582753627)"
      ]
     },
     "execution_count": 18,
     "metadata": {},
     "output_type": "execute_result"
    }
   ],
   "source": [
    "copy = h_price.dropna(subset = ['waterfront'])\n",
    "features = ['price']\n",
    "for dum in ['grade', 'zipcode']:\n",
    "    df = pd.get_dummies(copy[dum])\n",
    "    features = features + list(df.columns.values)\n",
    "    copy = copy.join(df)\n",
    "\n",
    "dataset = get_train_test_sets(features, copy, 'waterfront')\n",
    "x_train, y_train, x_test, y_test = dataset['x_train'], dataset['y_train'], dataset['x_test'], dataset['y_test']\n",
    "reg = LinearRegression().fit(x_train, y_train)\n",
    "reg.score(x_test, y_test), reg.score(x_train, y_train)"
   ]
  },
  {
   "cell_type": "markdown",
   "metadata": {},
   "source": [
    "#### Doesn't work becuase limited to linear regression!"
   ]
  },
  {
   "cell_type": "markdown",
   "metadata": {},
   "source": [
    "## Intuitive Model\n",
    "* use all values from above with good R^2"
   ]
  },
  {
   "cell_type": "code",
   "execution_count": 143,
   "metadata": {},
   "outputs": [
    {
     "data": {
      "text/plain": [
       "(0.17703738936226002, 0.17785674250188935)"
      ]
     },
     "execution_count": 143,
     "metadata": {},
     "output_type": "execute_result"
    }
   ],
   "source": [
    "features = ['sqft_living', 'sqft_above', 'bathrooms']\n",
    "dummies = ['grade', 'zipcode', 'view', 'waterfront']#, 'yr_renovated']\n",
    "\n",
    "dataset = get_train_test_sets_wdummies(features, dummies, h_price, 'price')\n",
    "get_mape_from_dataset(dataset)\n",
    "# No overfit, no regularization needed"
   ]
  },
  {
   "cell_type": "code",
   "execution_count": 144,
   "metadata": {},
   "outputs": [
    {
     "data": {
      "text/plain": [
       "(0.1770413435352387, 0.1778537428504051)"
      ]
     },
     "execution_count": 144,
     "metadata": {},
     "output_type": "execute_result"
    }
   ],
   "source": [
    "# Test with filling nans in waterfront to 0\n",
    "copy = h_price.copy()\n",
    "copy.waterfront = copy.waterfront.fillna(0)\n",
    "features = ['sqft_living', 'sqft_above', 'bathrooms']\n",
    "dummies = ['grade', 'zipcode', 'view', 'waterfront']#, 'yr_renovated']\n",
    "\n",
    "dataset = get_train_test_sets_wdummies(features, dummies, copy, 'price')\n",
    "get_mape_from_dataset(dataset)"
   ]
  },
  {
   "cell_type": "markdown",
   "metadata": {},
   "source": [
    "## Remove Outliers by STD"
   ]
  },
  {
   "cell_type": "code",
   "execution_count": 139,
   "metadata": {},
   "outputs": [
    {
     "name": "stdout",
     "output_type": "stream",
     "text": [
      "price 565\n",
      "sqft_living 405\n",
      "(20625, 24)\n"
     ]
    }
   ],
   "source": [
    "# Loop over all features\n",
    "price_std = h_price.copy()\n",
    "x = 2.5\n",
    "for i in ['price', 'sqft_living']:\n",
    "    std = price_std[i].std()\n",
    "    mean = price_std[i].mean()\n",
    "    print('{} {}'.format(i, price_std[abs(price_std[i] - mean) > std*x][i].count()))\n",
    "    price_std = price_std[abs(price_std[i] - mean) < std*x]\n",
    "print(price_std.shape)"
   ]
  },
  {
   "cell_type": "code",
   "execution_count": 141,
   "metadata": {},
   "outputs": [
    {
     "data": {
      "text/plain": [
       "0.16050541083560943"
      ]
     },
     "execution_count": 141,
     "metadata": {},
     "output_type": "execute_result"
    }
   ],
   "source": [
    "features = ['sqft_living']#, 'bathrooms']\n",
    "dummies = ['grade', 'zipcode', 'view']\n",
    "\n",
    "dataset = get_train_test_sets_wdummies(features, dummies, price_std, 'price')\n",
    "\n",
    "x_train, y_train, x_test, y_test = dataset['x_train'], dataset['y_train'], dataset['x_test'], dataset['y_test']\n",
    "reg = LinearRegression().fit(x_train, y_train)\n",
    "dataset = get_train_test_sets_wdummies(features, dummies, h_price, 'price')\n",
    "x_train, y_train, x_test, y_test = dataset['x_train'], dataset['y_train'], dataset['x_test'], dataset['y_test']\n",
    "mape(y_test, reg.predict(x_test))\n",
    "#reg.score(x_test, y_test)"
   ]
  },
  {
   "cell_type": "code",
   "execution_count": null,
   "metadata": {},
   "outputs": [],
   "source": [
    "# Results for different features\n",
    "#features = ['sqft_living', 'sqft_above', 'bathrooms']\n",
    "#dummies = ['grade', 'zipcode', 'view', 'waterfront']\n",
    "#0.16023365212599314"
   ]
  },
  {
   "cell_type": "markdown",
   "metadata": {},
   "source": [
    "## Richmans- / Poormansmodel"
   ]
  },
  {
   "cell_type": "code",
   "execution_count": 109,
   "metadata": {
    "jupyter": {
     "source_hidden": true
    }
   },
   "outputs": [],
   "source": [
    "class richpoor:\n",
    "    def __init__(self):\n",
    "        # standard settings\n",
    "        self.rp_coeff = 1030000\n",
    "        self.rp_range = 15000\n",
    "        self.features = ['sqft_living', 'sqft_above', 'bathrooms']\n",
    "        self.dummies = ['grade', 'zipcode', 'view']\n",
    "    def fit_rp(self, dataFrame):\n",
    "        \"\"\" fit model to decide rich or poor \"\"\"\n",
    "        dataset = get_train_test_sets_wdummies(self.features, self.dummies, dataFrame, 'price')\n",
    "        x_train, y_train, x_test, y_test = dataset['x_train'], dataset['y_train'], dataset['x_test'], dataset['y_test']\n",
    "\n",
    "        rp_model = LinearRegression().fit(x_train, y_train)\n",
    "        self.rp_model = rp_model\n",
    "        \n",
    "        df_rich = dataFrame[dataFrame.price > self.rp_coeff - self.rp_range]\n",
    "        if df_rich.shape[0] < 2:\n",
    "            print(\"range or coeff is set badly\")\n",
    "\n",
    "        dataset = get_train_test_sets_wdummies(self.features, self.dummies, df_rich, 'price')\n",
    "        x_train, y_train, x_test, y_test = dataset['x_train'], dataset['y_train'], dataset['x_test'], dataset['y_test']\n",
    "\n",
    "        model_rich = LinearRegression().fit(x_train, y_train)\n",
    "        self.model_rich = model_rich\n",
    "        \n",
    "        df_poor = dataFrame[dataFrame.price < self.rp_coeff + self.rp_range]\n",
    "        if df_poor.shape[0] < 2:\n",
    "            print(\"range or coeff is set badly\")\n",
    "\n",
    "        dataset = get_train_test_sets_wdummies(self.features, self.dummies, df_poor, 'price')\n",
    "        x_train, y_train, x_test, y_test = dataset['x_train'], dataset['y_train'], dataset['x_test'], dataset['y_test']\n",
    "\n",
    "        model_poor = LinearRegression().fit(x_train, y_train)\n",
    "        self.model_poor = model_poor\n",
    "        \n",
    "    def predict(self, x_test):\n",
    "\n",
    "        # Predict if rich or poor\n",
    "        y_pred = self.rp_model.predict(x_test)\n",
    "        mask_rich = (y_pred > self.rp_coeff)\n",
    "        mask_poor = (y_pred <= self.rp_coeff)\n",
    "\n",
    "        # Calculate all predicts\n",
    "        y_poor = self.model_poor.predict(x_test)\n",
    "        y_rich = self.model_rich.predict(x_test)\n",
    "\n",
    "        # Get the correct values from both sets\n",
    "        y_pred = y_rich * mask_rich + y_poor * mask_poor\n",
    "        \n",
    "        return y_pred"
   ]
  },
  {
   "cell_type": "code",
   "execution_count": 64,
   "metadata": {
    "jupyter": {
     "source_hidden": true
    }
   },
   "outputs": [],
   "source": [
    "# Get datasets\n",
    "dataset = get_train_test_sets_wdummies(features, dummies, h_price, 'price')\n",
    "x_train, y_train, x_test, y_test = dataset['x_train'], dataset['y_train'], dataset['x_test'], dataset['y_test']"
   ]
  },
  {
   "cell_type": "code",
   "execution_count": 65,
   "metadata": {
    "jupyter": {
     "source_hidden": true
    }
   },
   "outputs": [
    {
     "data": {
      "text/plain": [
       "0.16039578384439485"
      ]
     },
     "execution_count": 65,
     "metadata": {},
     "output_type": "execute_result"
    }
   ],
   "source": [
    "model = richpoor()\n",
    "model.fit_rp(h_price)\n",
    "mape(y_test, model.predict(x_test))"
   ]
  },
  {
   "cell_type": "code",
   "execution_count": 80,
   "metadata": {
    "jupyter": {
     "source_hidden": true
    }
   },
   "outputs": [
    {
     "name": "stdout",
     "output_type": "stream",
     "text": [
      "100.00% done!\r"
     ]
    }
   ],
   "source": [
    "# Test different settings\n",
    "model = richpoor()\n",
    "l = []\n",
    "count = 0\n",
    "#range1 = list(range(int(h_price.price.min())+10000, int(h_price.price.max())-1000000, 100000))\n",
    "#range2 = [100, 300, 500, 1000, 3000, 5000, 10000, 100000, 500000, 1000000, 3000000]\n",
    "#### best mape for coefficients (1088000, 10000) is 0.15616\n",
    "range1 = list(range(900000, 2000000, 10000))\n",
    "range2 = [5000, 15000, 1000]\n",
    "num = len(range1) * len(range2)\n",
    "for rp_coeff in range1:\n",
    "    for rp_range in range2:\n",
    "        count += 1\n",
    "        print('{:.2f}% done!'.format(count/num*100), end='\\r')\n",
    "        model.rp_coeff = rp_coeff\n",
    "        model.rp_range = rp_range\n",
    "        model.fit_rp(h_price)\n",
    "        mp = mape(y_test, model.predict(x_test))\n",
    "        l.append([(rp_coeff, rp_range), mp])"
   ]
  },
  {
   "cell_type": "code",
   "execution_count": 81,
   "metadata": {
    "collapsed": true,
    "jupyter": {
     "outputs_hidden": true,
     "source_hidden": true
    }
   },
   "outputs": [
    {
     "name": "stdout",
     "output_type": "stream",
     "text": [
      "mape for coefficients (1030000, 15000) is 0.15552\n",
      "mape for coefficients (1170000, 5000) is 0.15600\n",
      "mape for coefficients (1170000, 1000) is 0.15600\n",
      "mape for coefficients (1180000, 5000) is 0.15612\n",
      "mape for coefficients (1180000, 1000) is 0.15612\n",
      "mape for coefficients (1160000, 15000) is 0.15612\n",
      "mape for coefficients (940000, 1000) is 0.15613\n",
      "mape for coefficients (1080000, 15000) is 0.15616\n",
      "mape for coefficients (1140000, 15000) is 0.15621\n",
      "mape for coefficients (1190000, 15000) is 0.15623\n",
      "mape for coefficients (1100000, 5000) is 0.15630\n",
      "mape for coefficients (1100000, 1000) is 0.15630\n",
      "mape for coefficients (1120000, 5000) is 0.15636\n",
      "mape for coefficients (1120000, 1000) is 0.15636\n",
      "mape for coefficients (1020000, 5000) is 0.15640\n",
      "mape for coefficients (1020000, 1000) is 0.15640\n",
      "mape for coefficients (1150000, 5000) is 0.15640\n",
      "mape for coefficients (1150000, 1000) is 0.15640\n",
      "mape for coefficients (950000, 1000) is 0.15640\n",
      "mape for coefficients (1090000, 5000) is 0.15642\n",
      "mape for coefficients (1090000, 1000) is 0.15642\n",
      "mape for coefficients (1040000, 5000) is 0.15643\n",
      "mape for coefficients (1040000, 1000) is 0.15643\n",
      "mape for coefficients (1130000, 15000) is 0.15644\n",
      "mape for coefficients (1170000, 15000) is 0.15652\n",
      "mape for coefficients (1130000, 5000) is 0.15653\n",
      "mape for coefficients (1130000, 1000) is 0.15653\n",
      "mape for coefficients (1330000, 5000) is 0.15655\n",
      "mape for coefficients (1330000, 1000) is 0.15655\n",
      "mape for coefficients (1180000, 15000) is 0.15659\n",
      "mape for coefficients (950000, 15000) is 0.15660\n",
      "mape for coefficients (1110000, 15000) is 0.15661\n",
      "mape for coefficients (1190000, 5000) is 0.15663\n",
      "mape for coefficients (1190000, 1000) is 0.15663\n",
      "mape for coefficients (940000, 5000) is 0.15670\n",
      "mape for coefficients (1160000, 5000) is 0.15670\n",
      "mape for coefficients (1160000, 1000) is 0.15670\n",
      "mape for coefficients (940000, 15000) is 0.15671\n",
      "mape for coefficients (1250000, 15000) is 0.15672\n",
      "mape for coefficients (1200000, 15000) is 0.15672\n",
      "mape for coefficients (1090000, 15000) is 0.15673\n",
      "mape for coefficients (930000, 15000) is 0.15675\n",
      "mape for coefficients (950000, 5000) is 0.15676\n",
      "mape for coefficients (1080000, 5000) is 0.15677\n",
      "mape for coefficients (1080000, 1000) is 0.15677\n",
      "mape for coefficients (930000, 5000) is 0.15682\n",
      "mape for coefficients (1100000, 15000) is 0.15683\n",
      "mape for coefficients (1240000, 5000) is 0.15683\n",
      "mape for coefficients (1240000, 1000) is 0.15683\n",
      "mape for coefficients (1230000, 15000) is 0.15687\n",
      "mape for coefficients (960000, 15000) is 0.15688\n",
      "mape for coefficients (1320000, 15000) is 0.15692\n",
      "mape for coefficients (1220000, 15000) is 0.15699\n",
      "mape for coefficients (1260000, 5000) is 0.15700\n",
      "mape for coefficients (1260000, 1000) is 0.15700\n",
      "mape for coefficients (1070000, 15000) is 0.15703\n",
      "mape for coefficients (1210000, 5000) is 0.15703\n",
      "mape for coefficients (1210000, 1000) is 0.15703\n",
      "mape for coefficients (1280000, 5000) is 0.15704\n",
      "mape for coefficients (1280000, 1000) is 0.15704\n",
      "mape for coefficients (930000, 1000) is 0.15704\n",
      "mape for coefficients (1230000, 5000) is 0.15705\n",
      "mape for coefficients (1230000, 1000) is 0.15705\n",
      "mape for coefficients (1220000, 5000) is 0.15708\n",
      "mape for coefficients (1220000, 1000) is 0.15708\n",
      "mape for coefficients (1280000, 15000) is 0.15709\n",
      "mape for coefficients (1140000, 5000) is 0.15711\n",
      "mape for coefficients (1140000, 1000) is 0.15711\n",
      "mape for coefficients (1000000, 5000) is 0.15711\n",
      "mape for coefficients (1070000, 5000) is 0.15713\n",
      "mape for coefficients (1070000, 1000) is 0.15713\n",
      "mape for coefficients (1270000, 15000) is 0.15714\n",
      "mape for coefficients (1060000, 5000) is 0.15714\n",
      "mape for coefficients (1060000, 1000) is 0.15714\n",
      "mape for coefficients (1310000, 15000) is 0.15718\n",
      "mape for coefficients (1050000, 15000) is 0.15718\n",
      "mape for coefficients (1290000, 5000) is 0.15721\n",
      "mape for coefficients (1290000, 1000) is 0.15721\n",
      "mape for coefficients (1010000, 15000) is 0.15721\n",
      "mape for coefficients (1050000, 5000) is 0.15721\n",
      "mape for coefficients (1050000, 1000) is 0.15721\n",
      "mape for coefficients (1320000, 5000) is 0.15722\n",
      "mape for coefficients (1320000, 1000) is 0.15722\n",
      "mape for coefficients (1200000, 5000) is 0.15725\n",
      "mape for coefficients (1200000, 1000) is 0.15725\n",
      "mape for coefficients (1300000, 5000) is 0.15726\n",
      "mape for coefficients (1300000, 1000) is 0.15726\n",
      "mape for coefficients (920000, 5000) is 0.15728\n",
      "mape for coefficients (1270000, 5000) is 0.15729\n",
      "mape for coefficients (1270000, 1000) is 0.15729\n",
      "mape for coefficients (980000, 1000) is 0.15730\n",
      "mape for coefficients (1000000, 1000) is 0.15736\n",
      "mape for coefficients (1240000, 15000) is 0.15741\n",
      "mape for coefficients (1250000, 5000) is 0.15742\n",
      "mape for coefficients (1250000, 1000) is 0.15742\n",
      "mape for coefficients (960000, 5000) is 0.15743\n",
      "mape for coefficients (1060000, 15000) is 0.15745\n",
      "mape for coefficients (1150000, 15000) is 0.15746\n",
      "mape for coefficients (1030000, 5000) is 0.15754\n",
      "mape for coefficients (1030000, 1000) is 0.15754\n",
      "mape for coefficients (1300000, 15000) is 0.15756\n",
      "mape for coefficients (1260000, 15000) is 0.15758\n",
      "mape for coefficients (970000, 5000) is 0.15762\n",
      "mape for coefficients (1390000, 5000) is 0.15765\n",
      "mape for coefficients (1390000, 1000) is 0.15765\n",
      "mape for coefficients (990000, 1000) is 0.15768\n",
      "mape for coefficients (1020000, 15000) is 0.15769\n",
      "mape for coefficients (990000, 15000) is 0.15770\n",
      "mape for coefficients (1290000, 15000) is 0.15771\n",
      "mape for coefficients (1340000, 15000) is 0.15772\n",
      "mape for coefficients (970000, 15000) is 0.15772\n",
      "mape for coefficients (960000, 1000) is 0.15773\n",
      "mape for coefficients (1380000, 15000) is 0.15774\n",
      "mape for coefficients (1010000, 5000) is 0.15776\n",
      "mape for coefficients (1010000, 1000) is 0.15776\n",
      "mape for coefficients (1350000, 15000) is 0.15778\n",
      "mape for coefficients (1310000, 5000) is 0.15779\n",
      "mape for coefficients (1310000, 1000) is 0.15779\n",
      "mape for coefficients (920000, 15000) is 0.15785\n",
      "mape for coefficients (1210000, 15000) is 0.15785\n",
      "mape for coefficients (920000, 1000) is 0.15786\n",
      "mape for coefficients (1040000, 15000) is 0.15788\n",
      "mape for coefficients (1350000, 5000) is 0.15789\n",
      "mape for coefficients (1350000, 1000) is 0.15789\n",
      "mape for coefficients (1110000, 5000) is 0.15790\n",
      "mape for coefficients (1110000, 1000) is 0.15790\n",
      "mape for coefficients (980000, 15000) is 0.15793\n",
      "mape for coefficients (1330000, 15000) is 0.15799\n",
      "mape for coefficients (1360000, 5000) is 0.15800\n",
      "mape for coefficients (1360000, 1000) is 0.15800\n",
      "mape for coefficients (910000, 5000) is 0.15803\n",
      "mape for coefficients (990000, 5000) is 0.15803\n",
      "mape for coefficients (1380000, 5000) is 0.15804\n",
      "mape for coefficients (1380000, 1000) is 0.15804\n",
      "mape for coefficients (900000, 5000) is 0.15806\n",
      "mape for coefficients (1000000, 15000) is 0.15808\n",
      "mape for coefficients (1340000, 5000) is 0.15811\n",
      "mape for coefficients (1340000, 1000) is 0.15811\n",
      "mape for coefficients (1360000, 15000) is 0.15812\n",
      "mape for coefficients (1370000, 15000) is 0.15814\n",
      "mape for coefficients (1370000, 5000) is 0.15816\n",
      "mape for coefficients (1370000, 1000) is 0.15816\n",
      "mape for coefficients (980000, 5000) is 0.15827\n",
      "mape for coefficients (970000, 1000) is 0.15827\n",
      "mape for coefficients (1120000, 15000) is 0.15833\n",
      "mape for coefficients (910000, 15000) is 0.15833\n",
      "mape for coefficients (1420000, 5000) is 0.15852\n",
      "mape for coefficients (1420000, 1000) is 0.15852\n",
      "mape for coefficients (1410000, 15000) is 0.15857\n",
      "mape for coefficients (1400000, 15000) is 0.15863\n",
      "mape for coefficients (910000, 1000) is 0.15864\n",
      "mape for coefficients (1410000, 5000) is 0.15868\n",
      "mape for coefficients (1410000, 1000) is 0.15868\n",
      "mape for coefficients (1430000, 15000) is 0.15871\n",
      "mape for coefficients (1400000, 5000) is 0.15872\n",
      "mape for coefficients (1400000, 1000) is 0.15872\n",
      "mape for coefficients (900000, 15000) is 0.15874\n",
      "mape for coefficients (1390000, 15000) is 0.15875\n",
      "mape for coefficients (1440000, 5000) is 0.15884\n",
      "mape for coefficients (1440000, 1000) is 0.15884\n",
      "mape for coefficients (1420000, 15000) is 0.15904\n",
      "mape for coefficients (1430000, 5000) is 0.15921\n",
      "mape for coefficients (1430000, 1000) is 0.15921\n",
      "mape for coefficients (1460000, 5000) is 0.15925\n",
      "mape for coefficients (1460000, 1000) is 0.15925\n",
      "mape for coefficients (1450000, 15000) is 0.15937\n",
      "mape for coefficients (1460000, 15000) is 0.15945\n",
      "mape for coefficients (900000, 1000) is 0.15948\n",
      "mape for coefficients (1470000, 5000) is 0.15958\n",
      "mape for coefficients (1470000, 1000) is 0.15958\n",
      "mape for coefficients (1440000, 15000) is 0.15962\n",
      "mape for coefficients (1490000, 5000) is 0.15964\n",
      "mape for coefficients (1490000, 1000) is 0.15964\n",
      "mape for coefficients (1450000, 5000) is 0.15973\n",
      "mape for coefficients (1450000, 1000) is 0.15973\n",
      "mape for coefficients (1540000, 15000) is 0.15977\n",
      "mape for coefficients (1480000, 15000) is 0.15983\n",
      "mape for coefficients (1510000, 15000) is 0.15993\n",
      "mape for coefficients (1550000, 5000) is 0.16001\n",
      "mape for coefficients (1550000, 1000) is 0.16001\n",
      "mape for coefficients (1470000, 15000) is 0.16002\n",
      "mape for coefficients (1530000, 5000) is 0.16010\n",
      "mape for coefficients (1530000, 1000) is 0.16010\n",
      "mape for coefficients (1560000, 15000) is 0.16022\n",
      "mape for coefficients (1570000, 5000) is 0.16024\n",
      "mape for coefficients (1570000, 1000) is 0.16024\n",
      "mape for coefficients (1520000, 5000) is 0.16025\n",
      "mape for coefficients (1520000, 1000) is 0.16025\n",
      "mape for coefficients (1480000, 5000) is 0.16028\n",
      "mape for coefficients (1480000, 1000) is 0.16028\n",
      "mape for coefficients (1540000, 5000) is 0.16034\n",
      "mape for coefficients (1540000, 1000) is 0.16034\n",
      "mape for coefficients (1520000, 15000) is 0.16034\n",
      "mape for coefficients (1550000, 15000) is 0.16039\n",
      "mape for coefficients (1500000, 15000) is 0.16044\n",
      "mape for coefficients (1560000, 5000) is 0.16060\n",
      "mape for coefficients (1560000, 1000) is 0.16060\n",
      "mape for coefficients (1580000, 15000) is 0.16062\n",
      "mape for coefficients (1530000, 15000) is 0.16064\n",
      "mape for coefficients (1620000, 15000) is 0.16066\n",
      "mape for coefficients (1590000, 5000) is 0.16068\n",
      "mape for coefficients (1590000, 1000) is 0.16068\n",
      "mape for coefficients (1490000, 15000) is 0.16069\n",
      "mape for coefficients (1510000, 5000) is 0.16073\n",
      "mape for coefficients (1510000, 1000) is 0.16073\n",
      "mape for coefficients (1500000, 5000) is 0.16078\n",
      "mape for coefficients (1500000, 1000) is 0.16078\n",
      "mape for coefficients (1610000, 15000) is 0.16088\n",
      "mape for coefficients (1620000, 5000) is 0.16092\n",
      "mape for coefficients (1620000, 1000) is 0.16092\n",
      "mape for coefficients (1630000, 5000) is 0.16107\n",
      "mape for coefficients (1630000, 1000) is 0.16107\n",
      "mape for coefficients (1570000, 15000) is 0.16113\n",
      "mape for coefficients (1650000, 5000) is 0.16114\n",
      "mape for coefficients (1650000, 1000) is 0.16114\n",
      "mape for coefficients (1580000, 5000) is 0.16115\n",
      "mape for coefficients (1580000, 1000) is 0.16115\n",
      "mape for coefficients (1630000, 15000) is 0.16129\n",
      "mape for coefficients (1600000, 5000) is 0.16131\n",
      "mape for coefficients (1600000, 1000) is 0.16131\n",
      "mape for coefficients (1590000, 15000) is 0.16135\n",
      "mape for coefficients (1640000, 5000) is 0.16146\n",
      "mape for coefficients (1640000, 1000) is 0.16146\n",
      "mape for coefficients (1640000, 15000) is 0.16147\n",
      "mape for coefficients (1610000, 5000) is 0.16150\n",
      "mape for coefficients (1610000, 1000) is 0.16150\n",
      "mape for coefficients (1600000, 15000) is 0.16153\n",
      "mape for coefficients (1680000, 5000) is 0.16159\n",
      "mape for coefficients (1680000, 1000) is 0.16159\n",
      "mape for coefficients (1690000, 15000) is 0.16188\n",
      "mape for coefficients (1670000, 15000) is 0.16189\n",
      "mape for coefficients (1650000, 15000) is 0.16190\n",
      "mape for coefficients (1660000, 5000) is 0.16194\n",
      "mape for coefficients (1660000, 1000) is 0.16194\n",
      "mape for coefficients (1660000, 15000) is 0.16202\n",
      "mape for coefficients (1720000, 5000) is 0.16214\n",
      "mape for coefficients (1720000, 1000) is 0.16214\n",
      "mape for coefficients (1670000, 5000) is 0.16214\n",
      "mape for coefficients (1670000, 1000) is 0.16214\n",
      "mape for coefficients (1700000, 5000) is 0.16232\n",
      "mape for coefficients (1700000, 1000) is 0.16232\n",
      "mape for coefficients (1700000, 15000) is 0.16235\n",
      "mape for coefficients (1720000, 15000) is 0.16240\n",
      "mape for coefficients (1710000, 15000) is 0.16241\n",
      "mape for coefficients (1710000, 5000) is 0.16243\n",
      "mape for coefficients (1710000, 1000) is 0.16243\n",
      "mape for coefficients (1730000, 5000) is 0.16251\n",
      "mape for coefficients (1730000, 1000) is 0.16251\n",
      "mape for coefficients (1680000, 15000) is 0.16252\n",
      "mape for coefficients (1690000, 5000) is 0.16255\n",
      "mape for coefficients (1690000, 1000) is 0.16255\n",
      "mape for coefficients (1770000, 5000) is 0.16268\n",
      "mape for coefficients (1770000, 1000) is 0.16268\n",
      "mape for coefficients (1750000, 15000) is 0.16270\n",
      "mape for coefficients (1740000, 15000) is 0.16282\n",
      "mape for coefficients (1750000, 5000) is 0.16283\n",
      "mape for coefficients (1750000, 1000) is 0.16283\n",
      "mape for coefficients (1760000, 5000) is 0.16288\n",
      "mape for coefficients (1760000, 1000) is 0.16288\n",
      "mape for coefficients (1800000, 15000) is 0.16293\n",
      "mape for coefficients (1800000, 5000) is 0.16294\n",
      "mape for coefficients (1800000, 1000) is 0.16294\n",
      "mape for coefficients (1760000, 15000) is 0.16305\n",
      "mape for coefficients (1790000, 15000) is 0.16306\n",
      "mape for coefficients (1810000, 5000) is 0.16316\n",
      "mape for coefficients (1810000, 1000) is 0.16316\n",
      "mape for coefficients (1810000, 15000) is 0.16328\n",
      "mape for coefficients (1860000, 15000) is 0.16343\n",
      "mape for coefficients (1730000, 15000) is 0.16349\n",
      "mape for coefficients (1740000, 5000) is 0.16353\n",
      "mape for coefficients (1740000, 1000) is 0.16353\n",
      "mape for coefficients (1870000, 5000) is 0.16361\n",
      "mape for coefficients (1870000, 1000) is 0.16361\n",
      "mape for coefficients (1820000, 5000) is 0.16365\n",
      "mape for coefficients (1820000, 1000) is 0.16365\n",
      "mape for coefficients (1780000, 15000) is 0.16380\n",
      "mape for coefficients (1790000, 5000) is 0.16380\n",
      "mape for coefficients (1790000, 1000) is 0.16380\n",
      "mape for coefficients (1780000, 5000) is 0.16387\n",
      "mape for coefficients (1780000, 1000) is 0.16387\n",
      "mape for coefficients (1770000, 15000) is 0.16390\n",
      "mape for coefficients (1820000, 15000) is 0.16394\n",
      "mape for coefficients (1850000, 5000) is 0.16412\n",
      "mape for coefficients (1850000, 1000) is 0.16412\n",
      "mape for coefficients (1890000, 5000) is 0.16419\n",
      "mape for coefficients (1890000, 1000) is 0.16419\n",
      "mape for coefficients (1830000, 5000) is 0.16420\n",
      "mape for coefficients (1830000, 1000) is 0.16420\n",
      "mape for coefficients (1880000, 15000) is 0.16424\n",
      "mape for coefficients (1840000, 15000) is 0.16426\n",
      "mape for coefficients (1840000, 5000) is 0.16449\n",
      "mape for coefficients (1840000, 1000) is 0.16449\n",
      "mape for coefficients (1830000, 15000) is 0.16450\n",
      "mape for coefficients (1850000, 15000) is 0.16456\n",
      "mape for coefficients (1860000, 5000) is 0.16457\n",
      "mape for coefficients (1860000, 1000) is 0.16457\n",
      "mape for coefficients (1930000, 15000) is 0.16464\n",
      "mape for coefficients (1880000, 5000) is 0.16466\n",
      "mape for coefficients (1880000, 1000) is 0.16466\n",
      "mape for coefficients (1870000, 15000) is 0.16466\n",
      "mape for coefficients (1910000, 5000) is 0.16468\n",
      "mape for coefficients (1910000, 1000) is 0.16468\n",
      "mape for coefficients (1940000, 5000) is 0.16481\n",
      "mape for coefficients (1940000, 1000) is 0.16481\n",
      "mape for coefficients (1990000, 5000) is 0.16483\n",
      "mape for coefficients (1990000, 1000) is 0.16483\n",
      "mape for coefficients (1930000, 5000) is 0.16484\n",
      "mape for coefficients (1930000, 1000) is 0.16484\n",
      "mape for coefficients (1920000, 15000) is 0.16486\n",
      "mape for coefficients (1900000, 15000) is 0.16489\n",
      "mape for coefficients (1920000, 5000) is 0.16489\n",
      "mape for coefficients (1920000, 1000) is 0.16489\n",
      "mape for coefficients (1910000, 15000) is 0.16493\n",
      "mape for coefficients (1940000, 15000) is 0.16496\n",
      "mape for coefficients (1980000, 15000) is 0.16498\n",
      "mape for coefficients (1950000, 15000) is 0.16502\n",
      "mape for coefficients (1950000, 5000) is 0.16503\n",
      "mape for coefficients (1950000, 1000) is 0.16503\n",
      "mape for coefficients (1960000, 5000) is 0.16506\n",
      "mape for coefficients (1960000, 1000) is 0.16506\n",
      "mape for coefficients (1990000, 15000) is 0.16507\n",
      "mape for coefficients (1980000, 5000) is 0.16523\n",
      "mape for coefficients (1980000, 1000) is 0.16523\n",
      "mape for coefficients (1960000, 15000) is 0.16531\n",
      "mape for coefficients (1970000, 5000) is 0.16540\n",
      "mape for coefficients (1970000, 1000) is 0.16540\n",
      "mape for coefficients (1970000, 15000) is 0.16546\n",
      "mape for coefficients (1900000, 5000) is 0.16566\n",
      "mape for coefficients (1900000, 1000) is 0.16566\n",
      "mape for coefficients (1890000, 15000) is 0.16574\n"
     ]
    }
   ],
   "source": [
    "# Get best model parameters\n",
    "l = sorted(l,key=lambda x: x[1])#, reverse=True)\n",
    "for i in l:\n",
    "    print('mape for coefficients {} is {:.5f}'.format(i[0], i[1]))"
   ]
  },
  {
   "cell_type": "code",
   "execution_count": null,
   "metadata": {},
   "outputs": [],
   "source": []
  },
  {
   "cell_type": "code",
   "execution_count": 96,
   "metadata": {
    "jupyter": {
     "source_hidden": true
    }
   },
   "outputs": [
    {
     "name": "stdout",
     "output_type": "stream",
     "text": [
      "price 565\n",
      "sqft_living 405\n",
      "(20625, 24)\n"
     ]
    }
   ],
   "source": [
    "# Loop over all features\n",
    "price_std = h_price.copy()\n",
    "x = 2.5\n",
    "for i in ['price', 'sqft_living']:\n",
    "    std = price_std[i].std()\n",
    "    mean = price_std[i].mean()\n",
    "    print('{} {}'.format(i, price_std[abs(price_std[i] - mean) > std*x][i].count()))\n",
    "    price_std = price_std[abs(price_std[i] - mean) < std*x]\n",
    "print(price_std.shape)"
   ]
  },
  {
   "cell_type": "code",
   "execution_count": 110,
   "metadata": {
    "jupyter": {
     "source_hidden": true
    }
   },
   "outputs": [
    {
     "data": {
      "text/plain": [
       "0.15509822965282283"
      ]
     },
     "execution_count": 110,
     "metadata": {},
     "output_type": "execute_result"
    }
   ],
   "source": [
    "model = richpoor()\n",
    "model.fit_rp(price_std)\n",
    "\n",
    "features = ['sqft_living', 'sqft_above', 'bathrooms']\n",
    "dummies = ['grade', 'zipcode', 'view']\n",
    "model.features = features\n",
    "model.dummies = dummies\n",
    "dataset = get_train_test_sets_wdummies(features, dummies, h_price, 'price')\n",
    "x_train, y_train, x_test, y_test = dataset['x_train'], dataset['y_train'], dataset['x_test'], dataset['y_test']\n",
    "mape(y_test, model.predict(x_test))"
   ]
  },
  {
   "cell_type": "code",
   "execution_count": null,
   "metadata": {},
   "outputs": [],
   "source": []
  }
 ],
 "metadata": {
  "kernelspec": {
   "display_name": "Python [conda env:nf] *",
   "language": "python",
   "name": "conda-env-nf-py"
  },
  "language_info": {
   "codemirror_mode": {
    "name": "ipython",
    "version": 3
   },
   "file_extension": ".py",
   "mimetype": "text/x-python",
   "name": "python",
   "nbconvert_exporter": "python",
   "pygments_lexer": "ipython3",
   "version": "3.6.10"
  }
 },
 "nbformat": 4,
 "nbformat_minor": 4
}
