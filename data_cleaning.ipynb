{
 "cells": [
  {
   "cell_type": "markdown",
   "metadata": {},
   "source": [
    "# Data Cleaning\n",
    "Remove nans, unnecessary columns, etc..."
   ]
  },
  {
   "cell_type": "markdown",
   "metadata": {},
   "source": [
    "## Imports"
   ]
  },
  {
   "cell_type": "code",
   "execution_count": 1,
   "metadata": {},
   "outputs": [],
   "source": [
    "# Import libraries\n",
    "import pandas as pd\n",
    "import numpy as np\n",
    "import matplotlib.pyplot as plt\n",
    "%matplotlib inline\n",
    "import seaborn as sns"
   ]
  },
  {
   "cell_type": "markdown",
   "metadata": {},
   "source": [
    "## Load Datasets"
   ]
  },
  {
   "cell_type": "code",
   "execution_count": 2,
   "metadata": {},
   "outputs": [],
   "source": [
    "# load dataset\n",
    "h_price = pd.read_csv(\"King_County_House_prices_dataset.csv\", na_values=['?'])"
   ]
  },
  {
   "cell_type": "markdown",
   "metadata": {},
   "source": [
    "## Overview"
   ]
  },
  {
   "cell_type": "code",
   "execution_count": 3,
   "metadata": {},
   "outputs": [
    {
     "name": "stdout",
     "output_type": "stream",
     "text": [
      "#### King County set ####\n",
      "# of observations: 21597\n",
      "# of features:        21\n"
     ]
    }
   ],
   "source": [
    "print('#### King County set ####')\n",
    "print('# of observations: {}'.format(h_price.shape[0]))\n",
    "print('# of features:        {}'.format(h_price.shape[1]))"
   ]
  },
  {
   "cell_type": "markdown",
   "metadata": {},
   "source": [
    "## Check Columns\n",
    "Short Analysis of Columns, eg types, nans etc"
   ]
  },
  {
   "cell_type": "code",
   "execution_count": 4,
   "metadata": {},
   "outputs": [
    {
     "data": {
      "text/plain": [
       "id                 int64\n",
       "date              object\n",
       "price            float64\n",
       "bedrooms           int64\n",
       "bathrooms        float64\n",
       "sqft_living        int64\n",
       "sqft_lot           int64\n",
       "floors           float64\n",
       "waterfront       float64\n",
       "view             float64\n",
       "condition          int64\n",
       "grade              int64\n",
       "sqft_above         int64\n",
       "sqft_basement    float64\n",
       "yr_built           int64\n",
       "yr_renovated     float64\n",
       "zipcode            int64\n",
       "lat              float64\n",
       "long             float64\n",
       "sqft_living15      int64\n",
       "sqft_lot15         int64\n",
       "dtype: object"
      ]
     },
     "execution_count": 4,
     "metadata": {},
     "output_type": "execute_result"
    }
   ],
   "source": [
    "h_price.dtypes"
   ]
  },
  {
   "cell_type": "markdown",
   "metadata": {},
   "source": [
    "* date is object, turn into numeric data\n",
    "* Check why sqft_basement is object"
   ]
  },
  {
   "cell_type": "code",
   "execution_count": 5,
   "metadata": {},
   "outputs": [
    {
     "name": "stdout",
     "output_type": "stream",
     "text": [
      "id                  0\n",
      "date                0\n",
      "price               0\n",
      "bedrooms            0\n",
      "bathrooms           0\n",
      "sqft_living         0\n",
      "sqft_lot            0\n",
      "floors              0\n",
      "waterfront       2376\n",
      "view               63\n",
      "condition           0\n",
      "grade               0\n",
      "sqft_above          0\n",
      "sqft_basement     454\n",
      "yr_built            0\n",
      "yr_renovated     3842\n",
      "zipcode             0\n",
      "lat                 0\n",
      "long                0\n",
      "sqft_living15       0\n",
      "sqft_lot15          0\n",
      "dtype: int64\n",
      "id               0.000000\n",
      "date             0.000000\n",
      "price            0.000000\n",
      "bedrooms         0.000000\n",
      "bathrooms        0.000000\n",
      "sqft_living      0.000000\n",
      "sqft_lot         0.000000\n",
      "floors           0.000000\n",
      "waterfront       0.110015\n",
      "view             0.002917\n",
      "condition        0.000000\n",
      "grade            0.000000\n",
      "sqft_above       0.000000\n",
      "sqft_basement    0.021021\n",
      "yr_built         0.000000\n",
      "yr_renovated     0.177895\n",
      "zipcode          0.000000\n",
      "lat              0.000000\n",
      "long             0.000000\n",
      "sqft_living15    0.000000\n",
      "sqft_lot15       0.000000\n",
      "dtype: float64\n"
     ]
    }
   ],
   "source": [
    "## number of nans in columns\n",
    "print(h_price.isna().sum())\n",
    "# percentage\n",
    "print(h_price.isna().sum()/h_price.shape[0])"
   ]
  },
  {
   "cell_type": "markdown",
   "metadata": {},
   "source": [
    "* more than 10 % missing in waterfront, yr_renovated -> don't just delete values\n",
    "* view only 63 missing values, sqft_basement only 454, can be removed"
   ]
  },
  {
   "cell_type": "code",
   "execution_count": 6,
   "metadata": {},
   "outputs": [],
   "source": [
    "# Remove nans from view and sqft_basement\n",
    "h_price.dropna(subset=['view', 'sqft_basement'], inplace=True)"
   ]
  },
  {
   "cell_type": "markdown",
   "metadata": {},
   "source": [
    "## Date\n",
    "Change date to computer readable data!\\\n",
    "__Year__ is __useless__, since it's noly data from one year. __Day__ is useless anyway."
   ]
  },
  {
   "cell_type": "code",
   "execution_count": 7,
   "metadata": {},
   "outputs": [
    {
     "data": {
      "text/plain": [
       "0    10/13/2014\n",
       "1     12/9/2014\n",
       "2     2/25/2015\n",
       "Name: date, dtype: object"
      ]
     },
     "execution_count": 7,
     "metadata": {},
     "output_type": "execute_result"
    }
   ],
   "source": [
    "h_price.date.head(3)"
   ]
  },
  {
   "cell_type": "code",
   "execution_count": 8,
   "metadata": {},
   "outputs": [],
   "source": [
    "h_price['date_m'] = np.array([i.split('/')[0] for i in h_price.date.values]).astype(int)\n",
    "#h_price['date_d'] = np.array([i.split('/')[1] for i in h_price.date.values]).astype(int)\n",
    "#h_price['date_y'] = np.array([i.split('/')[2] for i in h_price.date.values]).astype(int)\n",
    "h_price.drop('date', axis=1, inplace=True)"
   ]
  },
  {
   "cell_type": "markdown",
   "metadata": {},
   "source": [
    "## Turn feet to m\n",
    "Turn all sizes to meter, better to comprehend. 1 feet is 0.3048 m."
   ]
  },
  {
   "cell_type": "code",
   "execution_count": 9,
   "metadata": {},
   "outputs": [],
   "source": [
    "conv = 0.3048**2 # conversion factor\n",
    "# loop over all sqft features\n",
    "for i in ['sqft_living', 'sqft_lot', 'sqft_above', 'sqft_basement', 'sqft_living15', 'sqft_lot15']:\n",
    "    name = i.replace('sqft', 'm2') # new name\n",
    "    h_price[name] = h_price[i] * conv # convert unit\n",
    "    h_price.drop(i, axis=1, inplace=True) # remove sqft from dataframe"
   ]
  },
  {
   "cell_type": "markdown",
   "metadata": {},
   "source": [
    "## Id\n",
    "Feature useless for analysis or modeling, __remove__ it!"
   ]
  },
  {
   "cell_type": "code",
   "execution_count": 10,
   "metadata": {},
   "outputs": [],
   "source": [
    "h_price.drop('id', axis=1, inplace=True)"
   ]
  },
  {
   "cell_type": "markdown",
   "metadata": {},
   "source": [
    "## Bedrooms\n",
    "Bedrooms has maximal value of 33 Bedrooms, which is pretty unrealistic. Coordinates show small house, therefore false value, __remove__ it!"
   ]
  },
  {
   "cell_type": "code",
   "execution_count": 11,
   "metadata": {},
   "outputs": [
    {
     "data": {
      "text/html": [
       "<div>\n",
       "<style scoped>\n",
       "    .dataframe tbody tr th:only-of-type {\n",
       "        vertical-align: middle;\n",
       "    }\n",
       "\n",
       "    .dataframe tbody tr th {\n",
       "        vertical-align: top;\n",
       "    }\n",
       "\n",
       "    .dataframe thead th {\n",
       "        text-align: right;\n",
       "    }\n",
       "</style>\n",
       "<table border=\"1\" class=\"dataframe\">\n",
       "  <thead>\n",
       "    <tr style=\"text-align: right;\">\n",
       "      <th></th>\n",
       "      <th>price</th>\n",
       "      <th>bedrooms</th>\n",
       "      <th>bathrooms</th>\n",
       "      <th>floors</th>\n",
       "      <th>waterfront</th>\n",
       "      <th>view</th>\n",
       "      <th>condition</th>\n",
       "      <th>grade</th>\n",
       "      <th>yr_built</th>\n",
       "      <th>yr_renovated</th>\n",
       "      <th>zipcode</th>\n",
       "      <th>lat</th>\n",
       "      <th>long</th>\n",
       "      <th>date_m</th>\n",
       "      <th>m2_living</th>\n",
       "      <th>m2_lot</th>\n",
       "      <th>m2_above</th>\n",
       "      <th>m2_basement</th>\n",
       "      <th>m2_living15</th>\n",
       "      <th>m2_lot15</th>\n",
       "    </tr>\n",
       "  </thead>\n",
       "  <tbody>\n",
       "    <tr>\n",
       "      <th>15856</th>\n",
       "      <td>640000.0</td>\n",
       "      <td>33</td>\n",
       "      <td>1.75</td>\n",
       "      <td>1.0</td>\n",
       "      <td>0.0</td>\n",
       "      <td>0.0</td>\n",
       "      <td>5</td>\n",
       "      <td>7</td>\n",
       "      <td>1947</td>\n",
       "      <td>0.0</td>\n",
       "      <td>98103</td>\n",
       "      <td>47.6878</td>\n",
       "      <td>-122.331</td>\n",
       "      <td>6</td>\n",
       "      <td>150.502925</td>\n",
       "      <td>557.41824</td>\n",
       "      <td>96.619162</td>\n",
       "      <td>53.883763</td>\n",
       "      <td>123.561043</td>\n",
       "      <td>436.644288</td>\n",
       "    </tr>\n",
       "  </tbody>\n",
       "</table>\n",
       "</div>"
      ],
      "text/plain": [
       "          price  bedrooms  bathrooms  floors  waterfront  view  condition  \\\n",
       "15856  640000.0        33       1.75     1.0         0.0   0.0          5   \n",
       "\n",
       "       grade  yr_built  yr_renovated  zipcode      lat     long  date_m  \\\n",
       "15856      7      1947           0.0    98103  47.6878 -122.331       6   \n",
       "\n",
       "        m2_living     m2_lot   m2_above  m2_basement  m2_living15    m2_lot15  \n",
       "15856  150.502925  557.41824  96.619162    53.883763   123.561043  436.644288  "
      ]
     },
     "execution_count": 11,
     "metadata": {},
     "output_type": "execute_result"
    }
   ],
   "source": [
    "# show house info\n",
    "h_price[h_price.bedrooms.argmax():h_price.bedrooms.argmax()+1]"
   ]
  },
  {
   "cell_type": "code",
   "execution_count": 12,
   "metadata": {},
   "outputs": [],
   "source": [
    "h_price.drop(h_price.index[h_price.bedrooms.argmax()], inplace=True)"
   ]
  },
  {
   "cell_type": "markdown",
   "metadata": {},
   "source": [
    "## Waterfront"
   ]
  },
  {
   "cell_type": "code",
   "execution_count": 13,
   "metadata": {},
   "outputs": [
    {
     "data": {
      "image/png": "[encoded data removed]",
      "text/plain": [
       "<Figure size 432x288 with 1 Axes>"
      ]
     },
     "metadata": {
      "needs_background": "light"
     },
     "output_type": "display_data"
    }
   ],
   "source": [
    "sns.histplot(data=h_price, x='waterfront');"
   ]
  },
  {
   "cell_type": "markdown",
   "metadata": {},
   "source": [
    "Waterfront is way too __unbalanced__. __Remove__ feature!"
   ]
  },
  {
   "cell_type": "code",
   "execution_count": 14,
   "metadata": {},
   "outputs": [],
   "source": [
    "h_price.drop('waterfront', axis=1, inplace=True)"
   ]
  },
  {
   "cell_type": "markdown",
   "metadata": {},
   "source": [
    "## Save data to new file"
   ]
  },
  {
   "cell_type": "code",
   "execution_count": 15,
   "metadata": {},
   "outputs": [
    {
     "name": "stdout",
     "output_type": "stream",
     "text": [
      "## New Datasets ##\n",
      "# of obs in cleaned set: 21081\n",
      "# of features:         19\n"
     ]
    }
   ],
   "source": [
    "# Turn data to train and test set\n",
    "print('## New Datasets ##')\n",
    "print('# of obs in cleaned set: {}'.format(h_price.shape[0]))\n",
    "print('# of features:         {}'.format(h_price.shape[1]))"
   ]
  },
  {
   "cell_type": "code",
   "execution_count": 16,
   "metadata": {},
   "outputs": [],
   "source": [
    "# Save to file\n",
    "h_price.to_csv('King_County_cleaned.csv', index=False)"
   ]
  }
 ],
 "metadata": {
  "kernelspec": {
   "display_name": "Python [conda env:nf] *",
   "language": "python",
   "name": "conda-env-nf-py"
  },
  "language_info": {
   "codemirror_mode": {
    "name": "ipython",
    "version": 3
   },
   "file_extension": ".py",
   "mimetype": "text/x-python",
   "name": "python",
   "nbconvert_exporter": "python",
   "pygments_lexer": "ipython3",
   "version": "3.6.10"
  }
 },
 "nbformat": 4,
 "nbformat_minor": 4
}
